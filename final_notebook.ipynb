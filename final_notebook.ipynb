{
 "cells": [
  {
   "cell_type": "markdown",
   "metadata": {},
   "source": [
    "### Network Intrusion Individual Project\n",
    "\n",
    "The Data: This data was obtained from Kaggle: (https://www.kaggle.com/nidhirastogi/network-intrusion-detection-using-python). For this dataset, TCP/IP dump data was acquired by simulating a typical US Air Force LAN. For each TCP/IP connection, 41 quantitative and qualitative features are obtained from normal and attack data. \n",
    "\n",
    "The Goal: The goal of this project is to be able to predict normal behavior on a network. "
   ]
  },
  {
   "cell_type": "code",
   "execution_count": 1,
   "metadata": {},
   "outputs": [],
   "source": [
    "# necessary imports\n",
    "\n",
    "import matplotlib\n",
    "import matplotlib.pyplot as plt\n",
    "import pandas as pd\n",
    "import numpy as np\n",
    "import seaborn as sns\n",
    "import sklearn\n",
    "from scipy import stats\n",
    "\n",
    "from sklearn.linear_model import LogisticRegression\n",
    "from sklearn.metrics import classification_report, confusion_matrix, precision_score, recall_score, accuracy_score\n",
    "from sklearn.tree import DecisionTreeClassifier\n",
    "from sklearn.ensemble import RandomForestClassifier\n",
    "\n",
    "from sklearn.model_selection import train_test_split\n",
    "\n",
    "import wrangle\n",
    "import explore\n",
    "\n",
    "# Ignore warnings\n",
    "import warnings\n",
    "warnings.filterwarnings('ignore')"
   ]
  },
  {
   "cell_type": "markdown",
   "metadata": {},
   "source": [
    "## Acquire\n",
    "\n",
    "### Acquire Takeaways\n",
    "- Very clean data\n",
    "- Only two columns are comprised of nulls: \"num_outbound_cmds\" and \"is_host_login\"\n",
    "- 42 is a lot of columns, probably some that are not good predictors"
   ]
  },
  {
   "cell_type": "code",
   "execution_count": 2,
   "metadata": {},
   "outputs": [],
   "source": [
    "# Acquire the data from the two csv files\n",
    "\n",
    "df = wrangle.get_data()"
   ]
  },
  {
   "cell_type": "code",
   "execution_count": 3,
   "metadata": {},
   "outputs": [
    {
     "data": {
      "text/html": [
       "<div>\n",
       "<style scoped>\n",
       "    .dataframe tbody tr th:only-of-type {\n",
       "        vertical-align: middle;\n",
       "    }\n",
       "\n",
       "    .dataframe tbody tr th {\n",
       "        vertical-align: top;\n",
       "    }\n",
       "\n",
       "    .dataframe thead th {\n",
       "        text-align: right;\n",
       "    }\n",
       "</style>\n",
       "<table border=\"1\" class=\"dataframe\">\n",
       "  <thead>\n",
       "    <tr style=\"text-align: right;\">\n",
       "      <th></th>\n",
       "      <th>duration</th>\n",
       "      <th>protocol_type</th>\n",
       "      <th>service</th>\n",
       "      <th>flag</th>\n",
       "      <th>src_bytes</th>\n",
       "      <th>dst_bytes</th>\n",
       "      <th>land</th>\n",
       "      <th>wrong_fragment</th>\n",
       "      <th>urgent</th>\n",
       "      <th>hot</th>\n",
       "      <th>...</th>\n",
       "      <th>dst_host_srv_count</th>\n",
       "      <th>dst_host_same_srv_rate</th>\n",
       "      <th>dst_host_diff_srv_rate</th>\n",
       "      <th>dst_host_same_src_port_rate</th>\n",
       "      <th>dst_host_srv_diff_host_rate</th>\n",
       "      <th>dst_host_serror_rate</th>\n",
       "      <th>dst_host_srv_serror_rate</th>\n",
       "      <th>dst_host_rerror_rate</th>\n",
       "      <th>dst_host_srv_rerror_rate</th>\n",
       "      <th>class</th>\n",
       "    </tr>\n",
       "  </thead>\n",
       "  <tbody>\n",
       "    <tr>\n",
       "      <td>0</td>\n",
       "      <td>0</td>\n",
       "      <td>tcp</td>\n",
       "      <td>ftp_data</td>\n",
       "      <td>SF</td>\n",
       "      <td>491</td>\n",
       "      <td>0</td>\n",
       "      <td>0</td>\n",
       "      <td>0</td>\n",
       "      <td>0</td>\n",
       "      <td>0</td>\n",
       "      <td>...</td>\n",
       "      <td>25</td>\n",
       "      <td>0.17</td>\n",
       "      <td>0.03</td>\n",
       "      <td>0.17</td>\n",
       "      <td>0.00</td>\n",
       "      <td>0.00</td>\n",
       "      <td>0.00</td>\n",
       "      <td>0.05</td>\n",
       "      <td>0.00</td>\n",
       "      <td>normal</td>\n",
       "    </tr>\n",
       "    <tr>\n",
       "      <td>1</td>\n",
       "      <td>0</td>\n",
       "      <td>udp</td>\n",
       "      <td>other</td>\n",
       "      <td>SF</td>\n",
       "      <td>146</td>\n",
       "      <td>0</td>\n",
       "      <td>0</td>\n",
       "      <td>0</td>\n",
       "      <td>0</td>\n",
       "      <td>0</td>\n",
       "      <td>...</td>\n",
       "      <td>1</td>\n",
       "      <td>0.00</td>\n",
       "      <td>0.60</td>\n",
       "      <td>0.88</td>\n",
       "      <td>0.00</td>\n",
       "      <td>0.00</td>\n",
       "      <td>0.00</td>\n",
       "      <td>0.00</td>\n",
       "      <td>0.00</td>\n",
       "      <td>normal</td>\n",
       "    </tr>\n",
       "    <tr>\n",
       "      <td>2</td>\n",
       "      <td>0</td>\n",
       "      <td>tcp</td>\n",
       "      <td>private</td>\n",
       "      <td>S0</td>\n",
       "      <td>0</td>\n",
       "      <td>0</td>\n",
       "      <td>0</td>\n",
       "      <td>0</td>\n",
       "      <td>0</td>\n",
       "      <td>0</td>\n",
       "      <td>...</td>\n",
       "      <td>26</td>\n",
       "      <td>0.10</td>\n",
       "      <td>0.05</td>\n",
       "      <td>0.00</td>\n",
       "      <td>0.00</td>\n",
       "      <td>1.00</td>\n",
       "      <td>1.00</td>\n",
       "      <td>0.00</td>\n",
       "      <td>0.00</td>\n",
       "      <td>anomaly</td>\n",
       "    </tr>\n",
       "    <tr>\n",
       "      <td>3</td>\n",
       "      <td>0</td>\n",
       "      <td>tcp</td>\n",
       "      <td>http</td>\n",
       "      <td>SF</td>\n",
       "      <td>232</td>\n",
       "      <td>8153</td>\n",
       "      <td>0</td>\n",
       "      <td>0</td>\n",
       "      <td>0</td>\n",
       "      <td>0</td>\n",
       "      <td>...</td>\n",
       "      <td>255</td>\n",
       "      <td>1.00</td>\n",
       "      <td>0.00</td>\n",
       "      <td>0.03</td>\n",
       "      <td>0.04</td>\n",
       "      <td>0.03</td>\n",
       "      <td>0.01</td>\n",
       "      <td>0.00</td>\n",
       "      <td>0.01</td>\n",
       "      <td>normal</td>\n",
       "    </tr>\n",
       "    <tr>\n",
       "      <td>4</td>\n",
       "      <td>0</td>\n",
       "      <td>tcp</td>\n",
       "      <td>http</td>\n",
       "      <td>SF</td>\n",
       "      <td>199</td>\n",
       "      <td>420</td>\n",
       "      <td>0</td>\n",
       "      <td>0</td>\n",
       "      <td>0</td>\n",
       "      <td>0</td>\n",
       "      <td>...</td>\n",
       "      <td>255</td>\n",
       "      <td>1.00</td>\n",
       "      <td>0.00</td>\n",
       "      <td>0.00</td>\n",
       "      <td>0.00</td>\n",
       "      <td>0.00</td>\n",
       "      <td>0.00</td>\n",
       "      <td>0.00</td>\n",
       "      <td>0.00</td>\n",
       "      <td>normal</td>\n",
       "    </tr>\n",
       "  </tbody>\n",
       "</table>\n",
       "<p>5 rows × 42 columns</p>\n",
       "</div>"
      ],
      "text/plain": [
       "   duration protocol_type   service flag  src_bytes  dst_bytes  land  \\\n",
       "0         0           tcp  ftp_data   SF        491          0     0   \n",
       "1         0           udp     other   SF        146          0     0   \n",
       "2         0           tcp   private   S0          0          0     0   \n",
       "3         0           tcp      http   SF        232       8153     0   \n",
       "4         0           tcp      http   SF        199        420     0   \n",
       "\n",
       "   wrong_fragment  urgent  hot  ...  dst_host_srv_count  \\\n",
       "0               0       0    0  ...                  25   \n",
       "1               0       0    0  ...                   1   \n",
       "2               0       0    0  ...                  26   \n",
       "3               0       0    0  ...                 255   \n",
       "4               0       0    0  ...                 255   \n",
       "\n",
       "   dst_host_same_srv_rate  dst_host_diff_srv_rate  \\\n",
       "0                    0.17                    0.03   \n",
       "1                    0.00                    0.60   \n",
       "2                    0.10                    0.05   \n",
       "3                    1.00                    0.00   \n",
       "4                    1.00                    0.00   \n",
       "\n",
       "   dst_host_same_src_port_rate  dst_host_srv_diff_host_rate  \\\n",
       "0                         0.17                         0.00   \n",
       "1                         0.88                         0.00   \n",
       "2                         0.00                         0.00   \n",
       "3                         0.03                         0.04   \n",
       "4                         0.00                         0.00   \n",
       "\n",
       "   dst_host_serror_rate  dst_host_srv_serror_rate  dst_host_rerror_rate  \\\n",
       "0                  0.00                      0.00                  0.05   \n",
       "1                  0.00                      0.00                  0.00   \n",
       "2                  1.00                      1.00                  0.00   \n",
       "3                  0.03                      0.01                  0.00   \n",
       "4                  0.00                      0.00                  0.00   \n",
       "\n",
       "   dst_host_srv_rerror_rate    class  \n",
       "0                      0.00   normal  \n",
       "1                      0.00   normal  \n",
       "2                      0.00  anomaly  \n",
       "3                      0.01   normal  \n",
       "4                      0.00   normal  \n",
       "\n",
       "[5 rows x 42 columns]"
      ]
     },
     "execution_count": 3,
     "metadata": {},
     "output_type": "execute_result"
    }
   ],
   "source": [
    "# Get a feel for the data\n",
    "\n",
    "df.head()"
   ]
  },
  {
   "cell_type": "code",
   "execution_count": 4,
   "metadata": {},
   "outputs": [
    {
     "name": "stdout",
     "output_type": "stream",
     "text": [
      "Dataset has 25192 rows & 42 columns\n"
     ]
    }
   ],
   "source": [
    "# Quantify the train data\n",
    "\n",
    "print(\"Dataset has {} rows & {} columns\".format(df.shape[0],df.shape[1]))"
   ]
  },
  {
   "cell_type": "code",
   "execution_count": 5,
   "metadata": {},
   "outputs": [
    {
     "name": "stdout",
     "output_type": "stream",
     "text": [
      "<class 'pandas.core.frame.DataFrame'>\n",
      "RangeIndex: 25192 entries, 0 to 25191\n",
      "Data columns (total 42 columns):\n",
      "duration                       25192 non-null int64\n",
      "protocol_type                  25192 non-null object\n",
      "service                        25192 non-null object\n",
      "flag                           25192 non-null object\n",
      "src_bytes                      25192 non-null int64\n",
      "dst_bytes                      25192 non-null int64\n",
      "land                           25192 non-null int64\n",
      "wrong_fragment                 25192 non-null int64\n",
      "urgent                         25192 non-null int64\n",
      "hot                            25192 non-null int64\n",
      "num_failed_logins              25192 non-null int64\n",
      "logged_in                      25192 non-null int64\n",
      "num_compromised                25192 non-null int64\n",
      "root_shell                     25192 non-null int64\n",
      "su_attempted                   25192 non-null int64\n",
      "num_root                       25192 non-null int64\n",
      "num_file_creations             25192 non-null int64\n",
      "num_shells                     25192 non-null int64\n",
      "num_access_files               25192 non-null int64\n",
      "num_outbound_cmds              25192 non-null int64\n",
      "is_host_login                  25192 non-null int64\n",
      "is_guest_login                 25192 non-null int64\n",
      "count                          25192 non-null int64\n",
      "srv_count                      25192 non-null int64\n",
      "serror_rate                    25192 non-null float64\n",
      "srv_serror_rate                25192 non-null float64\n",
      "rerror_rate                    25192 non-null float64\n",
      "srv_rerror_rate                25192 non-null float64\n",
      "same_srv_rate                  25192 non-null float64\n",
      "diff_srv_rate                  25192 non-null float64\n",
      "srv_diff_host_rate             25192 non-null float64\n",
      "dst_host_count                 25192 non-null int64\n",
      "dst_host_srv_count             25192 non-null int64\n",
      "dst_host_same_srv_rate         25192 non-null float64\n",
      "dst_host_diff_srv_rate         25192 non-null float64\n",
      "dst_host_same_src_port_rate    25192 non-null float64\n",
      "dst_host_srv_diff_host_rate    25192 non-null float64\n",
      "dst_host_serror_rate           25192 non-null float64\n",
      "dst_host_srv_serror_rate       25192 non-null float64\n",
      "dst_host_rerror_rate           25192 non-null float64\n",
      "dst_host_srv_rerror_rate       25192 non-null float64\n",
      "class                          25192 non-null object\n",
      "dtypes: float64(15), int64(23), object(4)\n",
      "memory usage: 8.1+ MB\n"
     ]
    }
   ],
   "source": [
    "# More detail - no null values in dataset\n",
    "\n",
    "df.info()"
   ]
  },
  {
   "cell_type": "code",
   "execution_count": 6,
   "metadata": {},
   "outputs": [
    {
     "data": {
      "text/html": [
       "<div>\n",
       "<style scoped>\n",
       "    .dataframe tbody tr th:only-of-type {\n",
       "        vertical-align: middle;\n",
       "    }\n",
       "\n",
       "    .dataframe tbody tr th {\n",
       "        vertical-align: top;\n",
       "    }\n",
       "\n",
       "    .dataframe thead th {\n",
       "        text-align: right;\n",
       "    }\n",
       "</style>\n",
       "<table border=\"1\" class=\"dataframe\">\n",
       "  <thead>\n",
       "    <tr style=\"text-align: right;\">\n",
       "      <th></th>\n",
       "      <th>count</th>\n",
       "      <th>mean</th>\n",
       "      <th>std</th>\n",
       "      <th>min</th>\n",
       "      <th>25%</th>\n",
       "      <th>50%</th>\n",
       "      <th>75%</th>\n",
       "      <th>max</th>\n",
       "    </tr>\n",
       "  </thead>\n",
       "  <tbody>\n",
       "    <tr>\n",
       "      <td>duration</td>\n",
       "      <td>25192.0</td>\n",
       "      <td>305.054104</td>\n",
       "      <td>2.686556e+03</td>\n",
       "      <td>0.0</td>\n",
       "      <td>0.00</td>\n",
       "      <td>0.00</td>\n",
       "      <td>0.00</td>\n",
       "      <td>42862.0</td>\n",
       "    </tr>\n",
       "    <tr>\n",
       "      <td>src_bytes</td>\n",
       "      <td>25192.0</td>\n",
       "      <td>24330.628215</td>\n",
       "      <td>2.410805e+06</td>\n",
       "      <td>0.0</td>\n",
       "      <td>0.00</td>\n",
       "      <td>44.00</td>\n",
       "      <td>279.00</td>\n",
       "      <td>381709090.0</td>\n",
       "    </tr>\n",
       "    <tr>\n",
       "      <td>dst_bytes</td>\n",
       "      <td>25192.0</td>\n",
       "      <td>3491.847174</td>\n",
       "      <td>8.883072e+04</td>\n",
       "      <td>0.0</td>\n",
       "      <td>0.00</td>\n",
       "      <td>0.00</td>\n",
       "      <td>530.25</td>\n",
       "      <td>5151385.0</td>\n",
       "    </tr>\n",
       "    <tr>\n",
       "      <td>land</td>\n",
       "      <td>25192.0</td>\n",
       "      <td>0.000079</td>\n",
       "      <td>8.909946e-03</td>\n",
       "      <td>0.0</td>\n",
       "      <td>0.00</td>\n",
       "      <td>0.00</td>\n",
       "      <td>0.00</td>\n",
       "      <td>1.0</td>\n",
       "    </tr>\n",
       "    <tr>\n",
       "      <td>wrong_fragment</td>\n",
       "      <td>25192.0</td>\n",
       "      <td>0.023738</td>\n",
       "      <td>2.602208e-01</td>\n",
       "      <td>0.0</td>\n",
       "      <td>0.00</td>\n",
       "      <td>0.00</td>\n",
       "      <td>0.00</td>\n",
       "      <td>3.0</td>\n",
       "    </tr>\n",
       "    <tr>\n",
       "      <td>urgent</td>\n",
       "      <td>25192.0</td>\n",
       "      <td>0.000040</td>\n",
       "      <td>6.300408e-03</td>\n",
       "      <td>0.0</td>\n",
       "      <td>0.00</td>\n",
       "      <td>0.00</td>\n",
       "      <td>0.00</td>\n",
       "      <td>1.0</td>\n",
       "    </tr>\n",
       "    <tr>\n",
       "      <td>hot</td>\n",
       "      <td>25192.0</td>\n",
       "      <td>0.198039</td>\n",
       "      <td>2.154202e+00</td>\n",
       "      <td>0.0</td>\n",
       "      <td>0.00</td>\n",
       "      <td>0.00</td>\n",
       "      <td>0.00</td>\n",
       "      <td>77.0</td>\n",
       "    </tr>\n",
       "    <tr>\n",
       "      <td>num_failed_logins</td>\n",
       "      <td>25192.0</td>\n",
       "      <td>0.001191</td>\n",
       "      <td>4.541818e-02</td>\n",
       "      <td>0.0</td>\n",
       "      <td>0.00</td>\n",
       "      <td>0.00</td>\n",
       "      <td>0.00</td>\n",
       "      <td>4.0</td>\n",
       "    </tr>\n",
       "    <tr>\n",
       "      <td>logged_in</td>\n",
       "      <td>25192.0</td>\n",
       "      <td>0.394768</td>\n",
       "      <td>4.888105e-01</td>\n",
       "      <td>0.0</td>\n",
       "      <td>0.00</td>\n",
       "      <td>0.00</td>\n",
       "      <td>1.00</td>\n",
       "      <td>1.0</td>\n",
       "    </tr>\n",
       "    <tr>\n",
       "      <td>num_compromised</td>\n",
       "      <td>25192.0</td>\n",
       "      <td>0.227850</td>\n",
       "      <td>1.041735e+01</td>\n",
       "      <td>0.0</td>\n",
       "      <td>0.00</td>\n",
       "      <td>0.00</td>\n",
       "      <td>0.00</td>\n",
       "      <td>884.0</td>\n",
       "    </tr>\n",
       "    <tr>\n",
       "      <td>root_shell</td>\n",
       "      <td>25192.0</td>\n",
       "      <td>0.001548</td>\n",
       "      <td>3.931635e-02</td>\n",
       "      <td>0.0</td>\n",
       "      <td>0.00</td>\n",
       "      <td>0.00</td>\n",
       "      <td>0.00</td>\n",
       "      <td>1.0</td>\n",
       "    </tr>\n",
       "    <tr>\n",
       "      <td>su_attempted</td>\n",
       "      <td>25192.0</td>\n",
       "      <td>0.001350</td>\n",
       "      <td>4.878505e-02</td>\n",
       "      <td>0.0</td>\n",
       "      <td>0.00</td>\n",
       "      <td>0.00</td>\n",
       "      <td>0.00</td>\n",
       "      <td>2.0</td>\n",
       "    </tr>\n",
       "    <tr>\n",
       "      <td>num_root</td>\n",
       "      <td>25192.0</td>\n",
       "      <td>0.249841</td>\n",
       "      <td>1.150084e+01</td>\n",
       "      <td>0.0</td>\n",
       "      <td>0.00</td>\n",
       "      <td>0.00</td>\n",
       "      <td>0.00</td>\n",
       "      <td>975.0</td>\n",
       "    </tr>\n",
       "    <tr>\n",
       "      <td>num_file_creations</td>\n",
       "      <td>25192.0</td>\n",
       "      <td>0.014727</td>\n",
       "      <td>5.296023e-01</td>\n",
       "      <td>0.0</td>\n",
       "      <td>0.00</td>\n",
       "      <td>0.00</td>\n",
       "      <td>0.00</td>\n",
       "      <td>40.0</td>\n",
       "    </tr>\n",
       "    <tr>\n",
       "      <td>num_shells</td>\n",
       "      <td>25192.0</td>\n",
       "      <td>0.000357</td>\n",
       "      <td>1.889822e-02</td>\n",
       "      <td>0.0</td>\n",
       "      <td>0.00</td>\n",
       "      <td>0.00</td>\n",
       "      <td>0.00</td>\n",
       "      <td>1.0</td>\n",
       "    </tr>\n",
       "    <tr>\n",
       "      <td>num_access_files</td>\n",
       "      <td>25192.0</td>\n",
       "      <td>0.004327</td>\n",
       "      <td>9.852398e-02</td>\n",
       "      <td>0.0</td>\n",
       "      <td>0.00</td>\n",
       "      <td>0.00</td>\n",
       "      <td>0.00</td>\n",
       "      <td>8.0</td>\n",
       "    </tr>\n",
       "    <tr>\n",
       "      <td>num_outbound_cmds</td>\n",
       "      <td>25192.0</td>\n",
       "      <td>0.000000</td>\n",
       "      <td>0.000000e+00</td>\n",
       "      <td>0.0</td>\n",
       "      <td>0.00</td>\n",
       "      <td>0.00</td>\n",
       "      <td>0.00</td>\n",
       "      <td>0.0</td>\n",
       "    </tr>\n",
       "    <tr>\n",
       "      <td>is_host_login</td>\n",
       "      <td>25192.0</td>\n",
       "      <td>0.000000</td>\n",
       "      <td>0.000000e+00</td>\n",
       "      <td>0.0</td>\n",
       "      <td>0.00</td>\n",
       "      <td>0.00</td>\n",
       "      <td>0.00</td>\n",
       "      <td>0.0</td>\n",
       "    </tr>\n",
       "    <tr>\n",
       "      <td>is_guest_login</td>\n",
       "      <td>25192.0</td>\n",
       "      <td>0.009130</td>\n",
       "      <td>9.511512e-02</td>\n",
       "      <td>0.0</td>\n",
       "      <td>0.00</td>\n",
       "      <td>0.00</td>\n",
       "      <td>0.00</td>\n",
       "      <td>1.0</td>\n",
       "    </tr>\n",
       "    <tr>\n",
       "      <td>count</td>\n",
       "      <td>25192.0</td>\n",
       "      <td>84.591180</td>\n",
       "      <td>1.146735e+02</td>\n",
       "      <td>1.0</td>\n",
       "      <td>2.00</td>\n",
       "      <td>14.00</td>\n",
       "      <td>144.00</td>\n",
       "      <td>511.0</td>\n",
       "    </tr>\n",
       "    <tr>\n",
       "      <td>srv_count</td>\n",
       "      <td>25192.0</td>\n",
       "      <td>27.698754</td>\n",
       "      <td>7.246824e+01</td>\n",
       "      <td>1.0</td>\n",
       "      <td>2.00</td>\n",
       "      <td>8.00</td>\n",
       "      <td>18.00</td>\n",
       "      <td>511.0</td>\n",
       "    </tr>\n",
       "    <tr>\n",
       "      <td>serror_rate</td>\n",
       "      <td>25192.0</td>\n",
       "      <td>0.286338</td>\n",
       "      <td>4.473123e-01</td>\n",
       "      <td>0.0</td>\n",
       "      <td>0.00</td>\n",
       "      <td>0.00</td>\n",
       "      <td>1.00</td>\n",
       "      <td>1.0</td>\n",
       "    </tr>\n",
       "    <tr>\n",
       "      <td>srv_serror_rate</td>\n",
       "      <td>25192.0</td>\n",
       "      <td>0.283762</td>\n",
       "      <td>4.475989e-01</td>\n",
       "      <td>0.0</td>\n",
       "      <td>0.00</td>\n",
       "      <td>0.00</td>\n",
       "      <td>1.00</td>\n",
       "      <td>1.0</td>\n",
       "    </tr>\n",
       "    <tr>\n",
       "      <td>rerror_rate</td>\n",
       "      <td>25192.0</td>\n",
       "      <td>0.118630</td>\n",
       "      <td>3.187455e-01</td>\n",
       "      <td>0.0</td>\n",
       "      <td>0.00</td>\n",
       "      <td>0.00</td>\n",
       "      <td>0.00</td>\n",
       "      <td>1.0</td>\n",
       "    </tr>\n",
       "    <tr>\n",
       "      <td>srv_rerror_rate</td>\n",
       "      <td>25192.0</td>\n",
       "      <td>0.120260</td>\n",
       "      <td>3.223354e-01</td>\n",
       "      <td>0.0</td>\n",
       "      <td>0.00</td>\n",
       "      <td>0.00</td>\n",
       "      <td>0.00</td>\n",
       "      <td>1.0</td>\n",
       "    </tr>\n",
       "    <tr>\n",
       "      <td>same_srv_rate</td>\n",
       "      <td>25192.0</td>\n",
       "      <td>0.660559</td>\n",
       "      <td>4.396374e-01</td>\n",
       "      <td>0.0</td>\n",
       "      <td>0.09</td>\n",
       "      <td>1.00</td>\n",
       "      <td>1.00</td>\n",
       "      <td>1.0</td>\n",
       "    </tr>\n",
       "    <tr>\n",
       "      <td>diff_srv_rate</td>\n",
       "      <td>25192.0</td>\n",
       "      <td>0.062363</td>\n",
       "      <td>1.785500e-01</td>\n",
       "      <td>0.0</td>\n",
       "      <td>0.00</td>\n",
       "      <td>0.00</td>\n",
       "      <td>0.06</td>\n",
       "      <td>1.0</td>\n",
       "    </tr>\n",
       "    <tr>\n",
       "      <td>srv_diff_host_rate</td>\n",
       "      <td>25192.0</td>\n",
       "      <td>0.095931</td>\n",
       "      <td>2.565828e-01</td>\n",
       "      <td>0.0</td>\n",
       "      <td>0.00</td>\n",
       "      <td>0.00</td>\n",
       "      <td>0.00</td>\n",
       "      <td>1.0</td>\n",
       "    </tr>\n",
       "    <tr>\n",
       "      <td>dst_host_count</td>\n",
       "      <td>25192.0</td>\n",
       "      <td>182.532074</td>\n",
       "      <td>9.899390e+01</td>\n",
       "      <td>0.0</td>\n",
       "      <td>84.00</td>\n",
       "      <td>255.00</td>\n",
       "      <td>255.00</td>\n",
       "      <td>255.0</td>\n",
       "    </tr>\n",
       "    <tr>\n",
       "      <td>dst_host_srv_count</td>\n",
       "      <td>25192.0</td>\n",
       "      <td>115.063036</td>\n",
       "      <td>1.106469e+02</td>\n",
       "      <td>0.0</td>\n",
       "      <td>10.00</td>\n",
       "      <td>61.00</td>\n",
       "      <td>255.00</td>\n",
       "      <td>255.0</td>\n",
       "    </tr>\n",
       "    <tr>\n",
       "      <td>dst_host_same_srv_rate</td>\n",
       "      <td>25192.0</td>\n",
       "      <td>0.519791</td>\n",
       "      <td>4.489439e-01</td>\n",
       "      <td>0.0</td>\n",
       "      <td>0.05</td>\n",
       "      <td>0.51</td>\n",
       "      <td>1.00</td>\n",
       "      <td>1.0</td>\n",
       "    </tr>\n",
       "    <tr>\n",
       "      <td>dst_host_diff_srv_rate</td>\n",
       "      <td>25192.0</td>\n",
       "      <td>0.082539</td>\n",
       "      <td>1.871911e-01</td>\n",
       "      <td>0.0</td>\n",
       "      <td>0.00</td>\n",
       "      <td>0.03</td>\n",
       "      <td>0.07</td>\n",
       "      <td>1.0</td>\n",
       "    </tr>\n",
       "    <tr>\n",
       "      <td>dst_host_same_src_port_rate</td>\n",
       "      <td>25192.0</td>\n",
       "      <td>0.147453</td>\n",
       "      <td>3.083666e-01</td>\n",
       "      <td>0.0</td>\n",
       "      <td>0.00</td>\n",
       "      <td>0.00</td>\n",
       "      <td>0.06</td>\n",
       "      <td>1.0</td>\n",
       "    </tr>\n",
       "    <tr>\n",
       "      <td>dst_host_srv_diff_host_rate</td>\n",
       "      <td>25192.0</td>\n",
       "      <td>0.031844</td>\n",
       "      <td>1.105750e-01</td>\n",
       "      <td>0.0</td>\n",
       "      <td>0.00</td>\n",
       "      <td>0.00</td>\n",
       "      <td>0.02</td>\n",
       "      <td>1.0</td>\n",
       "    </tr>\n",
       "    <tr>\n",
       "      <td>dst_host_serror_rate</td>\n",
       "      <td>25192.0</td>\n",
       "      <td>0.285800</td>\n",
       "      <td>4.453165e-01</td>\n",
       "      <td>0.0</td>\n",
       "      <td>0.00</td>\n",
       "      <td>0.00</td>\n",
       "      <td>1.00</td>\n",
       "      <td>1.0</td>\n",
       "    </tr>\n",
       "    <tr>\n",
       "      <td>dst_host_srv_serror_rate</td>\n",
       "      <td>25192.0</td>\n",
       "      <td>0.279846</td>\n",
       "      <td>4.460753e-01</td>\n",
       "      <td>0.0</td>\n",
       "      <td>0.00</td>\n",
       "      <td>0.00</td>\n",
       "      <td>1.00</td>\n",
       "      <td>1.0</td>\n",
       "    </tr>\n",
       "    <tr>\n",
       "      <td>dst_host_rerror_rate</td>\n",
       "      <td>25192.0</td>\n",
       "      <td>0.117800</td>\n",
       "      <td>3.058692e-01</td>\n",
       "      <td>0.0</td>\n",
       "      <td>0.00</td>\n",
       "      <td>0.00</td>\n",
       "      <td>0.00</td>\n",
       "      <td>1.0</td>\n",
       "    </tr>\n",
       "    <tr>\n",
       "      <td>dst_host_srv_rerror_rate</td>\n",
       "      <td>25192.0</td>\n",
       "      <td>0.118769</td>\n",
       "      <td>3.173335e-01</td>\n",
       "      <td>0.0</td>\n",
       "      <td>0.00</td>\n",
       "      <td>0.00</td>\n",
       "      <td>0.00</td>\n",
       "      <td>1.0</td>\n",
       "    </tr>\n",
       "  </tbody>\n",
       "</table>\n",
       "</div>"
      ],
      "text/plain": [
       "                               count          mean           std  min    25%  \\\n",
       "duration                     25192.0    305.054104  2.686556e+03  0.0   0.00   \n",
       "src_bytes                    25192.0  24330.628215  2.410805e+06  0.0   0.00   \n",
       "dst_bytes                    25192.0   3491.847174  8.883072e+04  0.0   0.00   \n",
       "land                         25192.0      0.000079  8.909946e-03  0.0   0.00   \n",
       "wrong_fragment               25192.0      0.023738  2.602208e-01  0.0   0.00   \n",
       "urgent                       25192.0      0.000040  6.300408e-03  0.0   0.00   \n",
       "hot                          25192.0      0.198039  2.154202e+00  0.0   0.00   \n",
       "num_failed_logins            25192.0      0.001191  4.541818e-02  0.0   0.00   \n",
       "logged_in                    25192.0      0.394768  4.888105e-01  0.0   0.00   \n",
       "num_compromised              25192.0      0.227850  1.041735e+01  0.0   0.00   \n",
       "root_shell                   25192.0      0.001548  3.931635e-02  0.0   0.00   \n",
       "su_attempted                 25192.0      0.001350  4.878505e-02  0.0   0.00   \n",
       "num_root                     25192.0      0.249841  1.150084e+01  0.0   0.00   \n",
       "num_file_creations           25192.0      0.014727  5.296023e-01  0.0   0.00   \n",
       "num_shells                   25192.0      0.000357  1.889822e-02  0.0   0.00   \n",
       "num_access_files             25192.0      0.004327  9.852398e-02  0.0   0.00   \n",
       "num_outbound_cmds            25192.0      0.000000  0.000000e+00  0.0   0.00   \n",
       "is_host_login                25192.0      0.000000  0.000000e+00  0.0   0.00   \n",
       "is_guest_login               25192.0      0.009130  9.511512e-02  0.0   0.00   \n",
       "count                        25192.0     84.591180  1.146735e+02  1.0   2.00   \n",
       "srv_count                    25192.0     27.698754  7.246824e+01  1.0   2.00   \n",
       "serror_rate                  25192.0      0.286338  4.473123e-01  0.0   0.00   \n",
       "srv_serror_rate              25192.0      0.283762  4.475989e-01  0.0   0.00   \n",
       "rerror_rate                  25192.0      0.118630  3.187455e-01  0.0   0.00   \n",
       "srv_rerror_rate              25192.0      0.120260  3.223354e-01  0.0   0.00   \n",
       "same_srv_rate                25192.0      0.660559  4.396374e-01  0.0   0.09   \n",
       "diff_srv_rate                25192.0      0.062363  1.785500e-01  0.0   0.00   \n",
       "srv_diff_host_rate           25192.0      0.095931  2.565828e-01  0.0   0.00   \n",
       "dst_host_count               25192.0    182.532074  9.899390e+01  0.0  84.00   \n",
       "dst_host_srv_count           25192.0    115.063036  1.106469e+02  0.0  10.00   \n",
       "dst_host_same_srv_rate       25192.0      0.519791  4.489439e-01  0.0   0.05   \n",
       "dst_host_diff_srv_rate       25192.0      0.082539  1.871911e-01  0.0   0.00   \n",
       "dst_host_same_src_port_rate  25192.0      0.147453  3.083666e-01  0.0   0.00   \n",
       "dst_host_srv_diff_host_rate  25192.0      0.031844  1.105750e-01  0.0   0.00   \n",
       "dst_host_serror_rate         25192.0      0.285800  4.453165e-01  0.0   0.00   \n",
       "dst_host_srv_serror_rate     25192.0      0.279846  4.460753e-01  0.0   0.00   \n",
       "dst_host_rerror_rate         25192.0      0.117800  3.058692e-01  0.0   0.00   \n",
       "dst_host_srv_rerror_rate     25192.0      0.118769  3.173335e-01  0.0   0.00   \n",
       "\n",
       "                                50%     75%          max  \n",
       "duration                       0.00    0.00      42862.0  \n",
       "src_bytes                     44.00  279.00  381709090.0  \n",
       "dst_bytes                      0.00  530.25    5151385.0  \n",
       "land                           0.00    0.00          1.0  \n",
       "wrong_fragment                 0.00    0.00          3.0  \n",
       "urgent                         0.00    0.00          1.0  \n",
       "hot                            0.00    0.00         77.0  \n",
       "num_failed_logins              0.00    0.00          4.0  \n",
       "logged_in                      0.00    1.00          1.0  \n",
       "num_compromised                0.00    0.00        884.0  \n",
       "root_shell                     0.00    0.00          1.0  \n",
       "su_attempted                   0.00    0.00          2.0  \n",
       "num_root                       0.00    0.00        975.0  \n",
       "num_file_creations             0.00    0.00         40.0  \n",
       "num_shells                     0.00    0.00          1.0  \n",
       "num_access_files               0.00    0.00          8.0  \n",
       "num_outbound_cmds              0.00    0.00          0.0  \n",
       "is_host_login                  0.00    0.00          0.0  \n",
       "is_guest_login                 0.00    0.00          1.0  \n",
       "count                         14.00  144.00        511.0  \n",
       "srv_count                      8.00   18.00        511.0  \n",
       "serror_rate                    0.00    1.00          1.0  \n",
       "srv_serror_rate                0.00    1.00          1.0  \n",
       "rerror_rate                    0.00    0.00          1.0  \n",
       "srv_rerror_rate                0.00    0.00          1.0  \n",
       "same_srv_rate                  1.00    1.00          1.0  \n",
       "diff_srv_rate                  0.00    0.06          1.0  \n",
       "srv_diff_host_rate             0.00    0.00          1.0  \n",
       "dst_host_count               255.00  255.00        255.0  \n",
       "dst_host_srv_count            61.00  255.00        255.0  \n",
       "dst_host_same_srv_rate         0.51    1.00          1.0  \n",
       "dst_host_diff_srv_rate         0.03    0.07          1.0  \n",
       "dst_host_same_src_port_rate    0.00    0.06          1.0  \n",
       "dst_host_srv_diff_host_rate    0.00    0.02          1.0  \n",
       "dst_host_serror_rate           0.00    1.00          1.0  \n",
       "dst_host_srv_serror_rate       0.00    1.00          1.0  \n",
       "dst_host_rerror_rate           0.00    0.00          1.0  \n",
       "dst_host_srv_rerror_rate       0.00    0.00          1.0  "
      ]
     },
     "execution_count": 6,
     "metadata": {},
     "output_type": "execute_result"
    }
   ],
   "source": [
    "# Descriptive statistics\n",
    "\n",
    "df.describe().T"
   ]
  },
  {
   "cell_type": "markdown",
   "metadata": {},
   "source": []
  },
  {
   "cell_type": "markdown",
   "metadata": {},
   "source": [
    "## Data Prep\n",
    "\n",
    "### Prep Takeaways\n",
    "- I chose to limit outliers extremely conservatively because in this case the outliers ARE the story\n",
    "- For the 'service' column, I dropped any service that had less than 400 occurances, as it still gave me plenty of anomalies\n",
    "- I aggressively dropped rows that I deemed unnecessary\n",
    "- Created dummies for all of the object-type columns"
   ]
  },
  {
   "cell_type": "code",
   "execution_count": 7,
   "metadata": {},
   "outputs": [
    {
     "data": {
      "text/plain": [
       "<matplotlib.axes._subplots.AxesSubplot at 0x7fa5d1c696d0>"
      ]
     },
     "execution_count": 7,
     "metadata": {},
     "output_type": "execute_result"
    },
    {
     "data": {
      "image/png": "[encoded data removed]",
      "text/plain": [
       "<Figure size 720x720 with 2 Axes>"
      ]
     },
     "metadata": {
      "needs_background": "light"
     },
     "output_type": "display_data"
    }
   ],
   "source": [
    "# Inspect correlation to determine columns to drop\n",
    "\n",
    "fig, ax = plt.subplots(figsize=(10,10)) \n",
    "sns.heatmap(df.corr(),cmap=\"Blues\")"
   ]
  },
  {
   "cell_type": "markdown",
   "metadata": {},
   "source": [
    "### Heatmap takeaways: \n",
    "- Most of the data has very low correlation\n",
    "- Features that have high_correlation include: "
   ]
  },
  {
   "cell_type": "code",
   "execution_count": 8,
   "metadata": {},
   "outputs": [
    {
     "data": {
      "text/plain": [
       "<matplotlib.axes._subplots.AxesSubplot at 0x7fa5d68caed0>"
      ]
     },
     "execution_count": 8,
     "metadata": {},
     "output_type": "execute_result"
    },
    {
     "data": {
      "image/png": "[encoded data removed]",
      "text/plain": [
       "<Figure size 432x288 with 1 Axes>"
      ]
     },
     "metadata": {
      "needs_background": "light"
     },
     "output_type": "display_data"
    }
   ],
   "source": [
    "# Class Distribution\n",
    "\n",
    "sns.countplot(df['class'])"
   ]
  },
  {
   "cell_type": "markdown",
   "metadata": {},
   "source": [
    "- almost as many anomalies as normal transmissions"
   ]
  },
  {
   "cell_type": "code",
   "execution_count": 9,
   "metadata": {},
   "outputs": [
    {
     "data": {
      "text/plain": [
       "<matplotlib.axes._subplots.AxesSubplot at 0x7fa5d1c4d050>"
      ]
     },
     "execution_count": 9,
     "metadata": {},
     "output_type": "execute_result"
    },
    {
     "data": {
      "image/png": "[encoded data removed]",
      "text/plain": [
       "<Figure size 864x432 with 1 Axes>"
      ]
     },
     "metadata": {
      "needs_background": "light"
     },
     "output_type": "display_data"
    }
   ],
   "source": [
    "# Class according to flag type\n",
    "\n",
    "plt.figure(figsize=(12,6))\n",
    "sns.countplot(df['flag'], hue=df['class'])"
   ]
  },
  {
   "cell_type": "markdown",
   "metadata": {},
   "source": [
    "- anomalies are predominately flagged as S0, to a lesser extent with RSTR, REJ, and RSTO\n",
    "- normal transmissions are almost always flagged as SF"
   ]
  },
  {
   "cell_type": "code",
   "execution_count": 10,
   "metadata": {},
   "outputs": [
    {
     "data": {
      "text/plain": [
       "<matplotlib.axes._subplots.AxesSubplot at 0x7fa5d66187d0>"
      ]
     },
     "execution_count": 10,
     "metadata": {},
     "output_type": "execute_result"
    },
    {
     "data": {
      "image/png": "[encoded data removed]",
      "text/plain": [
       "<Figure size 432x288 with 1 Axes>"
      ]
     },
     "metadata": {
      "needs_background": "light"
     },
     "output_type": "display_data"
    }
   ],
   "source": [
    "# Class and protocol_type\n",
    "\n",
    "sns.countplot(df['protocol_type'], hue=df['class'])"
   ]
  },
  {
   "cell_type": "markdown",
   "metadata": {},
   "source": [
    "- icmp has an abundance of anomalies\n",
    "- tcp is almost evenly distributed"
   ]
  },
  {
   "cell_type": "code",
   "execution_count": 11,
   "metadata": {},
   "outputs": [],
   "source": [
    "# Wrangle the data\n",
    "\n",
    "df = wrangle.wrangle_nids(df)"
   ]
  },
  {
   "cell_type": "code",
   "execution_count": 12,
   "metadata": {},
   "outputs": [
    {
     "data": {
      "text/html": [
       "<div>\n",
       "<style scoped>\n",
       "    .dataframe tbody tr th:only-of-type {\n",
       "        vertical-align: middle;\n",
       "    }\n",
       "\n",
       "    .dataframe tbody tr th {\n",
       "        vertical-align: top;\n",
       "    }\n",
       "\n",
       "    .dataframe thead th {\n",
       "        text-align: right;\n",
       "    }\n",
       "</style>\n",
       "<table border=\"1\" class=\"dataframe\">\n",
       "  <thead>\n",
       "    <tr style=\"text-align: right;\">\n",
       "      <th></th>\n",
       "      <th>count</th>\n",
       "      <th>mean</th>\n",
       "      <th>std</th>\n",
       "      <th>min</th>\n",
       "      <th>25%</th>\n",
       "      <th>50%</th>\n",
       "      <th>75%</th>\n",
       "      <th>max</th>\n",
       "    </tr>\n",
       "  </thead>\n",
       "  <tbody>\n",
       "    <tr>\n",
       "      <td>duration</td>\n",
       "      <td>25192.0</td>\n",
       "      <td>305.054104</td>\n",
       "      <td>2.686556e+03</td>\n",
       "      <td>0.0</td>\n",
       "      <td>0.00</td>\n",
       "      <td>0.00</td>\n",
       "      <td>0.00</td>\n",
       "      <td>42862.0</td>\n",
       "    </tr>\n",
       "    <tr>\n",
       "      <td>src_bytes</td>\n",
       "      <td>25192.0</td>\n",
       "      <td>24330.628215</td>\n",
       "      <td>2.410805e+06</td>\n",
       "      <td>0.0</td>\n",
       "      <td>0.00</td>\n",
       "      <td>44.00</td>\n",
       "      <td>279.00</td>\n",
       "      <td>381709090.0</td>\n",
       "    </tr>\n",
       "    <tr>\n",
       "      <td>dst_bytes</td>\n",
       "      <td>25192.0</td>\n",
       "      <td>3491.847174</td>\n",
       "      <td>8.883072e+04</td>\n",
       "      <td>0.0</td>\n",
       "      <td>0.00</td>\n",
       "      <td>0.00</td>\n",
       "      <td>530.25</td>\n",
       "      <td>5151385.0</td>\n",
       "    </tr>\n",
       "    <tr>\n",
       "      <td>logged_in</td>\n",
       "      <td>25192.0</td>\n",
       "      <td>0.394768</td>\n",
       "      <td>4.888105e-01</td>\n",
       "      <td>0.0</td>\n",
       "      <td>0.00</td>\n",
       "      <td>0.00</td>\n",
       "      <td>1.00</td>\n",
       "      <td>1.0</td>\n",
       "    </tr>\n",
       "    <tr>\n",
       "      <td>count</td>\n",
       "      <td>25192.0</td>\n",
       "      <td>84.591180</td>\n",
       "      <td>1.146735e+02</td>\n",
       "      <td>1.0</td>\n",
       "      <td>2.00</td>\n",
       "      <td>14.00</td>\n",
       "      <td>144.00</td>\n",
       "      <td>511.0</td>\n",
       "    </tr>\n",
       "    <tr>\n",
       "      <td>srv_count</td>\n",
       "      <td>25192.0</td>\n",
       "      <td>27.698754</td>\n",
       "      <td>7.246824e+01</td>\n",
       "      <td>1.0</td>\n",
       "      <td>2.00</td>\n",
       "      <td>8.00</td>\n",
       "      <td>18.00</td>\n",
       "      <td>511.0</td>\n",
       "    </tr>\n",
       "    <tr>\n",
       "      <td>same_srv_rate</td>\n",
       "      <td>25192.0</td>\n",
       "      <td>0.660559</td>\n",
       "      <td>4.396374e-01</td>\n",
       "      <td>0.0</td>\n",
       "      <td>0.09</td>\n",
       "      <td>1.00</td>\n",
       "      <td>1.00</td>\n",
       "      <td>1.0</td>\n",
       "    </tr>\n",
       "    <tr>\n",
       "      <td>diff_srv_rate</td>\n",
       "      <td>25192.0</td>\n",
       "      <td>0.062363</td>\n",
       "      <td>1.785500e-01</td>\n",
       "      <td>0.0</td>\n",
       "      <td>0.00</td>\n",
       "      <td>0.00</td>\n",
       "      <td>0.06</td>\n",
       "      <td>1.0</td>\n",
       "    </tr>\n",
       "    <tr>\n",
       "      <td>dst_host_count</td>\n",
       "      <td>25192.0</td>\n",
       "      <td>182.532074</td>\n",
       "      <td>9.899390e+01</td>\n",
       "      <td>0.0</td>\n",
       "      <td>84.00</td>\n",
       "      <td>255.00</td>\n",
       "      <td>255.00</td>\n",
       "      <td>255.0</td>\n",
       "    </tr>\n",
       "    <tr>\n",
       "      <td>dst_host_srv_count</td>\n",
       "      <td>25192.0</td>\n",
       "      <td>115.063036</td>\n",
       "      <td>1.106469e+02</td>\n",
       "      <td>0.0</td>\n",
       "      <td>10.00</td>\n",
       "      <td>61.00</td>\n",
       "      <td>255.00</td>\n",
       "      <td>255.0</td>\n",
       "    </tr>\n",
       "    <tr>\n",
       "      <td>dst_host_same_srv_rate</td>\n",
       "      <td>25192.0</td>\n",
       "      <td>0.519791</td>\n",
       "      <td>4.489439e-01</td>\n",
       "      <td>0.0</td>\n",
       "      <td>0.05</td>\n",
       "      <td>0.51</td>\n",
       "      <td>1.00</td>\n",
       "      <td>1.0</td>\n",
       "    </tr>\n",
       "    <tr>\n",
       "      <td>dst_host_diff_srv_rate</td>\n",
       "      <td>25192.0</td>\n",
       "      <td>0.082539</td>\n",
       "      <td>1.871911e-01</td>\n",
       "      <td>0.0</td>\n",
       "      <td>0.00</td>\n",
       "      <td>0.03</td>\n",
       "      <td>0.07</td>\n",
       "      <td>1.0</td>\n",
       "    </tr>\n",
       "    <tr>\n",
       "      <td>dst_host_same_src_port_rate</td>\n",
       "      <td>25192.0</td>\n",
       "      <td>0.147453</td>\n",
       "      <td>3.083666e-01</td>\n",
       "      <td>0.0</td>\n",
       "      <td>0.00</td>\n",
       "      <td>0.00</td>\n",
       "      <td>0.06</td>\n",
       "      <td>1.0</td>\n",
       "    </tr>\n",
       "    <tr>\n",
       "      <td>dst_host_srv_diff_host_rate</td>\n",
       "      <td>25192.0</td>\n",
       "      <td>0.031844</td>\n",
       "      <td>1.105750e-01</td>\n",
       "      <td>0.0</td>\n",
       "      <td>0.00</td>\n",
       "      <td>0.00</td>\n",
       "      <td>0.02</td>\n",
       "      <td>1.0</td>\n",
       "    </tr>\n",
       "    <tr>\n",
       "      <td>dst_host_rerror_rate</td>\n",
       "      <td>25192.0</td>\n",
       "      <td>0.117800</td>\n",
       "      <td>3.058692e-01</td>\n",
       "      <td>0.0</td>\n",
       "      <td>0.00</td>\n",
       "      <td>0.00</td>\n",
       "      <td>0.00</td>\n",
       "      <td>1.0</td>\n",
       "    </tr>\n",
       "  </tbody>\n",
       "</table>\n",
       "</div>"
      ],
      "text/plain": [
       "                               count          mean           std  min    25%  \\\n",
       "duration                     25192.0    305.054104  2.686556e+03  0.0   0.00   \n",
       "src_bytes                    25192.0  24330.628215  2.410805e+06  0.0   0.00   \n",
       "dst_bytes                    25192.0   3491.847174  8.883072e+04  0.0   0.00   \n",
       "logged_in                    25192.0      0.394768  4.888105e-01  0.0   0.00   \n",
       "count                        25192.0     84.591180  1.146735e+02  1.0   2.00   \n",
       "srv_count                    25192.0     27.698754  7.246824e+01  1.0   2.00   \n",
       "same_srv_rate                25192.0      0.660559  4.396374e-01  0.0   0.09   \n",
       "diff_srv_rate                25192.0      0.062363  1.785500e-01  0.0   0.00   \n",
       "dst_host_count               25192.0    182.532074  9.899390e+01  0.0  84.00   \n",
       "dst_host_srv_count           25192.0    115.063036  1.106469e+02  0.0  10.00   \n",
       "dst_host_same_srv_rate       25192.0      0.519791  4.489439e-01  0.0   0.05   \n",
       "dst_host_diff_srv_rate       25192.0      0.082539  1.871911e-01  0.0   0.00   \n",
       "dst_host_same_src_port_rate  25192.0      0.147453  3.083666e-01  0.0   0.00   \n",
       "dst_host_srv_diff_host_rate  25192.0      0.031844  1.105750e-01  0.0   0.00   \n",
       "dst_host_rerror_rate         25192.0      0.117800  3.058692e-01  0.0   0.00   \n",
       "\n",
       "                                50%     75%          max  \n",
       "duration                       0.00    0.00      42862.0  \n",
       "src_bytes                     44.00  279.00  381709090.0  \n",
       "dst_bytes                      0.00  530.25    5151385.0  \n",
       "logged_in                      0.00    1.00          1.0  \n",
       "count                         14.00  144.00        511.0  \n",
       "srv_count                      8.00   18.00        511.0  \n",
       "same_srv_rate                  1.00    1.00          1.0  \n",
       "diff_srv_rate                  0.00    0.06          1.0  \n",
       "dst_host_count               255.00  255.00        255.0  \n",
       "dst_host_srv_count            61.00  255.00        255.0  \n",
       "dst_host_same_srv_rate         0.51    1.00          1.0  \n",
       "dst_host_diff_srv_rate         0.03    0.07          1.0  \n",
       "dst_host_same_src_port_rate    0.00    0.06          1.0  \n",
       "dst_host_srv_diff_host_rate    0.00    0.02          1.0  \n",
       "dst_host_rerror_rate           0.00    0.00          1.0  "
      ]
     },
     "execution_count": 12,
     "metadata": {},
     "output_type": "execute_result"
    }
   ],
   "source": [
    "# Look at the remaining columns\n",
    "\n",
    "df.describe().T"
   ]
  },
  {
   "cell_type": "code",
   "execution_count": 13,
   "metadata": {},
   "outputs": [
    {
     "data": {
      "text/plain": [
       "<matplotlib.axes._subplots.AxesSubplot at 0x7fa5d69a5210>"
      ]
     },
     "execution_count": 13,
     "metadata": {},
     "output_type": "execute_result"
    },
    {
     "data": {
      "image/png": "[encoded data removed]",
      "text/plain": [
       "<Figure size 720x720 with 2 Axes>"
      ]
     },
     "metadata": {
      "needs_background": "light"
     },
     "output_type": "display_data"
    }
   ],
   "source": [
    "# Re-inspect correlation to determine additional columns to drop\n",
    "\n",
    "fig, ax = plt.subplots(figsize=(10,10)) \n",
    "sns.heatmap(df.corr(),cmap=\"Blues\")"
   ]
  },
  {
   "cell_type": "code",
   "execution_count": 14,
   "metadata": {},
   "outputs": [
    {
     "data": {
      "text/plain": [
       "http         8003\n",
       "private      4351\n",
       "domain_u     1820\n",
       "smtp         1449\n",
       "ftp_data     1396\n",
       "             ... \n",
       "urh_i           4\n",
       "pm_dump         3\n",
       "red_i           3\n",
       "tim_i           2\n",
       "http_8001       1\n",
       "Name: service, Length: 66, dtype: int64"
      ]
     },
     "execution_count": 14,
     "metadata": {},
     "output_type": "execute_result"
    }
   ],
   "source": [
    "# Going to see if I want to shave the values down a bit\n",
    "\n",
    "df['service'].value_counts()"
   ]
  },
  {
   "cell_type": "code",
   "execution_count": 16,
   "metadata": {},
   "outputs": [],
   "source": [
    "# Limiting service counts to above 400\n",
    "\n",
    "df = df[df['service'].isin(counts[counts > 400].index)]"
   ]
  },
  {
   "cell_type": "code",
   "execution_count": 17,
   "metadata": {},
   "outputs": [],
   "source": [
    "# Create dummy variables for protocol_type\n",
    "dummy_df = pd.get_dummies(df['protocol_type'], drop_first=True)\n",
    "\n",
    "# Merge data frames togeter\n",
    "df = pd.concat([df, dummy_df], axis= 1)\n",
    "\n",
    "# Drop \"protocol_type\" column\n",
    "df.drop(columns=['protocol_type'], inplace=True)"
   ]
  },
  {
   "cell_type": "code",
   "execution_count": 18,
   "metadata": {},
   "outputs": [],
   "source": [
    "# Create dummy variables for flag\n",
    "dummy_df = pd.get_dummies(df['flag'], drop_first=True)\n",
    "\n",
    "# Merge data frames togeter\n",
    "df = pd.concat([df, dummy_df], axis= 1)\n",
    "\n",
    "# Drop \"flag\" column\n",
    "df.drop(columns=['flag'], inplace=True)"
   ]
  },
  {
   "cell_type": "code",
   "execution_count": 19,
   "metadata": {},
   "outputs": [],
   "source": [
    "# Create dummy variables for service\n",
    "dummy_df = pd.get_dummies(df['service'], drop_first=True)\n",
    "\n",
    "# Merge data frames togeter\n",
    "df = pd.concat([df, dummy_df], axis= 1)\n",
    "\n",
    "# Drop \"service\" column\n",
    "df.drop(columns=['service'], inplace=True)"
   ]
  },
  {
   "cell_type": "code",
   "execution_count": 20,
   "metadata": {},
   "outputs": [],
   "source": [
    "# Create dummy variables for class\n",
    "dummy_df = pd.get_dummies(df['class'], drop_first=True)\n",
    "\n",
    "# Rename dummy cols\n",
    "dummy_df.columns = ['is_normal']\n",
    "\n",
    "# Merge data frames togeter\n",
    "df = pd.concat([df, dummy_df], axis= 1)\n",
    "\n",
    "# Drop \"Residence_type\" column\n",
    "df.drop(columns=['class'], inplace=True)"
   ]
  },
  {
   "cell_type": "code",
   "execution_count": 21,
   "metadata": {},
   "outputs": [
    {
     "data": {
      "text/html": [
       "<div>\n",
       "<style scoped>\n",
       "    .dataframe tbody tr th:only-of-type {\n",
       "        vertical-align: middle;\n",
       "    }\n",
       "\n",
       "    .dataframe tbody tr th {\n",
       "        vertical-align: top;\n",
       "    }\n",
       "\n",
       "    .dataframe thead th {\n",
       "        text-align: right;\n",
       "    }\n",
       "</style>\n",
       "<table border=\"1\" class=\"dataframe\">\n",
       "  <thead>\n",
       "    <tr style=\"text-align: right;\">\n",
       "      <th></th>\n",
       "      <th>count</th>\n",
       "      <th>mean</th>\n",
       "      <th>std</th>\n",
       "      <th>min</th>\n",
       "      <th>25%</th>\n",
       "      <th>50%</th>\n",
       "      <th>75%</th>\n",
       "      <th>max</th>\n",
       "    </tr>\n",
       "  </thead>\n",
       "  <tbody>\n",
       "    <tr>\n",
       "      <td>duration</td>\n",
       "      <td>19882.0</td>\n",
       "      <td>353.370536</td>\n",
       "      <td>2.877925e+03</td>\n",
       "      <td>0.0</td>\n",
       "      <td>0.00</td>\n",
       "      <td>0.00</td>\n",
       "      <td>0.00</td>\n",
       "      <td>42862.0</td>\n",
       "    </tr>\n",
       "    <tr>\n",
       "      <td>src_bytes</td>\n",
       "      <td>19882.0</td>\n",
       "      <td>29568.652148</td>\n",
       "      <td>2.712388e+06</td>\n",
       "      <td>0.0</td>\n",
       "      <td>0.00</td>\n",
       "      <td>187.00</td>\n",
       "      <td>305.00</td>\n",
       "      <td>381709090.0</td>\n",
       "    </tr>\n",
       "    <tr>\n",
       "      <td>dst_bytes</td>\n",
       "      <td>19882.0</td>\n",
       "      <td>4128.269138</td>\n",
       "      <td>9.883527e+04</td>\n",
       "      <td>0.0</td>\n",
       "      <td>0.00</td>\n",
       "      <td>105.00</td>\n",
       "      <td>1010.00</td>\n",
       "      <td>5151385.0</td>\n",
       "    </tr>\n",
       "    <tr>\n",
       "      <td>logged_in</td>\n",
       "      <td>19882.0</td>\n",
       "      <td>0.482949</td>\n",
       "      <td>4.997218e-01</td>\n",
       "      <td>0.0</td>\n",
       "      <td>0.00</td>\n",
       "      <td>0.00</td>\n",
       "      <td>1.00</td>\n",
       "      <td>1.0</td>\n",
       "    </tr>\n",
       "    <tr>\n",
       "      <td>count</td>\n",
       "      <td>19882.0</td>\n",
       "      <td>63.750176</td>\n",
       "      <td>1.094251e+02</td>\n",
       "      <td>1.0</td>\n",
       "      <td>2.00</td>\n",
       "      <td>8.00</td>\n",
       "      <td>88.00</td>\n",
       "      <td>511.0</td>\n",
       "    </tr>\n",
       "    <tr>\n",
       "      <td>srv_count</td>\n",
       "      <td>19882.0</td>\n",
       "      <td>32.509556</td>\n",
       "      <td>8.080041e+01</td>\n",
       "      <td>1.0</td>\n",
       "      <td>2.00</td>\n",
       "      <td>7.00</td>\n",
       "      <td>18.00</td>\n",
       "      <td>511.0</td>\n",
       "    </tr>\n",
       "    <tr>\n",
       "      <td>same_srv_rate</td>\n",
       "      <td>19882.0</td>\n",
       "      <td>0.784615</td>\n",
       "      <td>3.828047e-01</td>\n",
       "      <td>0.0</td>\n",
       "      <td>0.97</td>\n",
       "      <td>1.00</td>\n",
       "      <td>1.00</td>\n",
       "      <td>1.0</td>\n",
       "    </tr>\n",
       "    <tr>\n",
       "      <td>diff_srv_rate</td>\n",
       "      <td>19882.0</td>\n",
       "      <td>0.055242</td>\n",
       "      <td>1.824477e-01</td>\n",
       "      <td>0.0</td>\n",
       "      <td>0.00</td>\n",
       "      <td>0.00</td>\n",
       "      <td>0.03</td>\n",
       "      <td>1.0</td>\n",
       "    </tr>\n",
       "    <tr>\n",
       "      <td>dst_host_count</td>\n",
       "      <td>19882.0</td>\n",
       "      <td>167.222613</td>\n",
       "      <td>1.029684e+02</td>\n",
       "      <td>0.0</td>\n",
       "      <td>54.00</td>\n",
       "      <td>255.00</td>\n",
       "      <td>255.00</td>\n",
       "      <td>255.0</td>\n",
       "    </tr>\n",
       "    <tr>\n",
       "      <td>dst_host_srv_count</td>\n",
       "      <td>19882.0</td>\n",
       "      <td>142.227341</td>\n",
       "      <td>1.093294e+02</td>\n",
       "      <td>0.0</td>\n",
       "      <td>17.00</td>\n",
       "      <td>161.00</td>\n",
       "      <td>255.00</td>\n",
       "      <td>255.0</td>\n",
       "    </tr>\n",
       "    <tr>\n",
       "      <td>dst_host_same_srv_rate</td>\n",
       "      <td>19882.0</td>\n",
       "      <td>0.639647</td>\n",
       "      <td>4.279023e-01</td>\n",
       "      <td>0.0</td>\n",
       "      <td>0.08</td>\n",
       "      <td>0.98</td>\n",
       "      <td>1.00</td>\n",
       "      <td>1.0</td>\n",
       "    </tr>\n",
       "    <tr>\n",
       "      <td>dst_host_diff_srv_rate</td>\n",
       "      <td>19882.0</td>\n",
       "      <td>0.082240</td>\n",
       "      <td>1.997389e-01</td>\n",
       "      <td>0.0</td>\n",
       "      <td>0.00</td>\n",
       "      <td>0.01</td>\n",
       "      <td>0.06</td>\n",
       "      <td>1.0</td>\n",
       "    </tr>\n",
       "    <tr>\n",
       "      <td>dst_host_same_src_port_rate</td>\n",
       "      <td>19882.0</td>\n",
       "      <td>0.179828</td>\n",
       "      <td>3.326593e-01</td>\n",
       "      <td>0.0</td>\n",
       "      <td>0.00</td>\n",
       "      <td>0.01</td>\n",
       "      <td>0.14</td>\n",
       "      <td>1.0</td>\n",
       "    </tr>\n",
       "    <tr>\n",
       "      <td>dst_host_srv_diff_host_rate</td>\n",
       "      <td>19882.0</td>\n",
       "      <td>0.037573</td>\n",
       "      <td>1.173921e-01</td>\n",
       "      <td>0.0</td>\n",
       "      <td>0.00</td>\n",
       "      <td>0.00</td>\n",
       "      <td>0.02</td>\n",
       "      <td>1.0</td>\n",
       "    </tr>\n",
       "    <tr>\n",
       "      <td>dst_host_rerror_rate</td>\n",
       "      <td>19882.0</td>\n",
       "      <td>0.100575</td>\n",
       "      <td>2.801994e-01</td>\n",
       "      <td>0.0</td>\n",
       "      <td>0.00</td>\n",
       "      <td>0.00</td>\n",
       "      <td>0.00</td>\n",
       "      <td>1.0</td>\n",
       "    </tr>\n",
       "    <tr>\n",
       "      <td>tcp</td>\n",
       "      <td>19882.0</td>\n",
       "      <td>0.773614</td>\n",
       "      <td>4.185021e-01</td>\n",
       "      <td>0.0</td>\n",
       "      <td>1.00</td>\n",
       "      <td>1.00</td>\n",
       "      <td>1.00</td>\n",
       "      <td>1.0</td>\n",
       "    </tr>\n",
       "    <tr>\n",
       "      <td>udp</td>\n",
       "      <td>19882.0</td>\n",
       "      <td>0.149834</td>\n",
       "      <td>3.569176e-01</td>\n",
       "      <td>0.0</td>\n",
       "      <td>0.00</td>\n",
       "      <td>0.00</td>\n",
       "      <td>0.00</td>\n",
       "      <td>1.0</td>\n",
       "    </tr>\n",
       "    <tr>\n",
       "      <td>REJ</td>\n",
       "      <td>19882.0</td>\n",
       "      <td>0.076803</td>\n",
       "      <td>2.662855e-01</td>\n",
       "      <td>0.0</td>\n",
       "      <td>0.00</td>\n",
       "      <td>0.00</td>\n",
       "      <td>0.00</td>\n",
       "      <td>1.0</td>\n",
       "    </tr>\n",
       "    <tr>\n",
       "      <td>RSTO</td>\n",
       "      <td>19882.0</td>\n",
       "      <td>0.003923</td>\n",
       "      <td>6.251361e-02</td>\n",
       "      <td>0.0</td>\n",
       "      <td>0.00</td>\n",
       "      <td>0.00</td>\n",
       "      <td>0.00</td>\n",
       "      <td>1.0</td>\n",
       "    </tr>\n",
       "    <tr>\n",
       "      <td>RSTOS0</td>\n",
       "      <td>19882.0</td>\n",
       "      <td>0.000754</td>\n",
       "      <td>2.745760e-02</td>\n",
       "      <td>0.0</td>\n",
       "      <td>0.00</td>\n",
       "      <td>0.00</td>\n",
       "      <td>0.00</td>\n",
       "      <td>1.0</td>\n",
       "    </tr>\n",
       "    <tr>\n",
       "      <td>RSTR</td>\n",
       "      <td>19882.0</td>\n",
       "      <td>0.021225</td>\n",
       "      <td>1.441380e-01</td>\n",
       "      <td>0.0</td>\n",
       "      <td>0.00</td>\n",
       "      <td>0.00</td>\n",
       "      <td>0.00</td>\n",
       "      <td>1.0</td>\n",
       "    </tr>\n",
       "    <tr>\n",
       "      <td>S0</td>\n",
       "      <td>19882.0</td>\n",
       "      <td>0.169701</td>\n",
       "      <td>3.753796e-01</td>\n",
       "      <td>0.0</td>\n",
       "      <td>0.00</td>\n",
       "      <td>0.00</td>\n",
       "      <td>0.00</td>\n",
       "      <td>1.0</td>\n",
       "    </tr>\n",
       "    <tr>\n",
       "      <td>S1</td>\n",
       "      <td>19882.0</td>\n",
       "      <td>0.003923</td>\n",
       "      <td>6.251361e-02</td>\n",
       "      <td>0.0</td>\n",
       "      <td>0.00</td>\n",
       "      <td>0.00</td>\n",
       "      <td>0.00</td>\n",
       "      <td>1.0</td>\n",
       "    </tr>\n",
       "    <tr>\n",
       "      <td>S2</td>\n",
       "      <td>19882.0</td>\n",
       "      <td>0.001006</td>\n",
       "      <td>3.170132e-02</td>\n",
       "      <td>0.0</td>\n",
       "      <td>0.00</td>\n",
       "      <td>0.00</td>\n",
       "      <td>0.00</td>\n",
       "      <td>1.0</td>\n",
       "    </tr>\n",
       "    <tr>\n",
       "      <td>S3</td>\n",
       "      <td>19882.0</td>\n",
       "      <td>0.000654</td>\n",
       "      <td>2.556292e-02</td>\n",
       "      <td>0.0</td>\n",
       "      <td>0.00</td>\n",
       "      <td>0.00</td>\n",
       "      <td>0.00</td>\n",
       "      <td>1.0</td>\n",
       "    </tr>\n",
       "    <tr>\n",
       "      <td>SF</td>\n",
       "      <td>19882.0</td>\n",
       "      <td>0.720048</td>\n",
       "      <td>4.489865e-01</td>\n",
       "      <td>0.0</td>\n",
       "      <td>0.00</td>\n",
       "      <td>1.00</td>\n",
       "      <td>1.00</td>\n",
       "      <td>1.0</td>\n",
       "    </tr>\n",
       "    <tr>\n",
       "      <td>SH</td>\n",
       "      <td>19882.0</td>\n",
       "      <td>0.001760</td>\n",
       "      <td>4.192107e-02</td>\n",
       "      <td>0.0</td>\n",
       "      <td>0.00</td>\n",
       "      <td>0.00</td>\n",
       "      <td>0.00</td>\n",
       "      <td>1.0</td>\n",
       "    </tr>\n",
       "    <tr>\n",
       "      <td>eco_i</td>\n",
       "      <td>19882.0</td>\n",
       "      <td>0.045720</td>\n",
       "      <td>2.088819e-01</td>\n",
       "      <td>0.0</td>\n",
       "      <td>0.00</td>\n",
       "      <td>0.00</td>\n",
       "      <td>0.00</td>\n",
       "      <td>1.0</td>\n",
       "    </tr>\n",
       "    <tr>\n",
       "      <td>ecr_i</td>\n",
       "      <td>19882.0</td>\n",
       "      <td>0.030832</td>\n",
       "      <td>1.728664e-01</td>\n",
       "      <td>0.0</td>\n",
       "      <td>0.00</td>\n",
       "      <td>0.00</td>\n",
       "      <td>0.00</td>\n",
       "      <td>1.0</td>\n",
       "    </tr>\n",
       "    <tr>\n",
       "      <td>ftp_data</td>\n",
       "      <td>19882.0</td>\n",
       "      <td>0.070214</td>\n",
       "      <td>2.555142e-01</td>\n",
       "      <td>0.0</td>\n",
       "      <td>0.00</td>\n",
       "      <td>0.00</td>\n",
       "      <td>0.00</td>\n",
       "      <td>1.0</td>\n",
       "    </tr>\n",
       "    <tr>\n",
       "      <td>http</td>\n",
       "      <td>19882.0</td>\n",
       "      <td>0.402525</td>\n",
       "      <td>4.904189e-01</td>\n",
       "      <td>0.0</td>\n",
       "      <td>0.00</td>\n",
       "      <td>0.00</td>\n",
       "      <td>1.00</td>\n",
       "      <td>1.0</td>\n",
       "    </tr>\n",
       "    <tr>\n",
       "      <td>other</td>\n",
       "      <td>19882.0</td>\n",
       "      <td>0.043155</td>\n",
       "      <td>2.032102e-01</td>\n",
       "      <td>0.0</td>\n",
       "      <td>0.00</td>\n",
       "      <td>0.00</td>\n",
       "      <td>0.00</td>\n",
       "      <td>1.0</td>\n",
       "    </tr>\n",
       "    <tr>\n",
       "      <td>private</td>\n",
       "      <td>19882.0</td>\n",
       "      <td>0.218841</td>\n",
       "      <td>4.134710e-01</td>\n",
       "      <td>0.0</td>\n",
       "      <td>0.00</td>\n",
       "      <td>0.00</td>\n",
       "      <td>0.00</td>\n",
       "      <td>1.0</td>\n",
       "    </tr>\n",
       "    <tr>\n",
       "      <td>smtp</td>\n",
       "      <td>19882.0</td>\n",
       "      <td>0.072880</td>\n",
       "      <td>2.599460e-01</td>\n",
       "      <td>0.0</td>\n",
       "      <td>0.00</td>\n",
       "      <td>0.00</td>\n",
       "      <td>0.00</td>\n",
       "      <td>1.0</td>\n",
       "    </tr>\n",
       "    <tr>\n",
       "      <td>telnet</td>\n",
       "      <td>19882.0</td>\n",
       "      <td>0.024293</td>\n",
       "      <td>1.539622e-01</td>\n",
       "      <td>0.0</td>\n",
       "      <td>0.00</td>\n",
       "      <td>0.00</td>\n",
       "      <td>0.00</td>\n",
       "      <td>1.0</td>\n",
       "    </tr>\n",
       "    <tr>\n",
       "      <td>is_normal</td>\n",
       "      <td>19882.0</td>\n",
       "      <td>0.645307</td>\n",
       "      <td>4.784321e-01</td>\n",
       "      <td>0.0</td>\n",
       "      <td>0.00</td>\n",
       "      <td>1.00</td>\n",
       "      <td>1.00</td>\n",
       "      <td>1.0</td>\n",
       "    </tr>\n",
       "  </tbody>\n",
       "</table>\n",
       "</div>"
      ],
      "text/plain": [
       "                               count          mean           std  min    25%  \\\n",
       "duration                     19882.0    353.370536  2.877925e+03  0.0   0.00   \n",
       "src_bytes                    19882.0  29568.652148  2.712388e+06  0.0   0.00   \n",
       "dst_bytes                    19882.0   4128.269138  9.883527e+04  0.0   0.00   \n",
       "logged_in                    19882.0      0.482949  4.997218e-01  0.0   0.00   \n",
       "count                        19882.0     63.750176  1.094251e+02  1.0   2.00   \n",
       "srv_count                    19882.0     32.509556  8.080041e+01  1.0   2.00   \n",
       "same_srv_rate                19882.0      0.784615  3.828047e-01  0.0   0.97   \n",
       "diff_srv_rate                19882.0      0.055242  1.824477e-01  0.0   0.00   \n",
       "dst_host_count               19882.0    167.222613  1.029684e+02  0.0  54.00   \n",
       "dst_host_srv_count           19882.0    142.227341  1.093294e+02  0.0  17.00   \n",
       "dst_host_same_srv_rate       19882.0      0.639647  4.279023e-01  0.0   0.08   \n",
       "dst_host_diff_srv_rate       19882.0      0.082240  1.997389e-01  0.0   0.00   \n",
       "dst_host_same_src_port_rate  19882.0      0.179828  3.326593e-01  0.0   0.00   \n",
       "dst_host_srv_diff_host_rate  19882.0      0.037573  1.173921e-01  0.0   0.00   \n",
       "dst_host_rerror_rate         19882.0      0.100575  2.801994e-01  0.0   0.00   \n",
       "tcp                          19882.0      0.773614  4.185021e-01  0.0   1.00   \n",
       "udp                          19882.0      0.149834  3.569176e-01  0.0   0.00   \n",
       "REJ                          19882.0      0.076803  2.662855e-01  0.0   0.00   \n",
       "RSTO                         19882.0      0.003923  6.251361e-02  0.0   0.00   \n",
       "RSTOS0                       19882.0      0.000754  2.745760e-02  0.0   0.00   \n",
       "RSTR                         19882.0      0.021225  1.441380e-01  0.0   0.00   \n",
       "S0                           19882.0      0.169701  3.753796e-01  0.0   0.00   \n",
       "S1                           19882.0      0.003923  6.251361e-02  0.0   0.00   \n",
       "S2                           19882.0      0.001006  3.170132e-02  0.0   0.00   \n",
       "S3                           19882.0      0.000654  2.556292e-02  0.0   0.00   \n",
       "SF                           19882.0      0.720048  4.489865e-01  0.0   0.00   \n",
       "SH                           19882.0      0.001760  4.192107e-02  0.0   0.00   \n",
       "eco_i                        19882.0      0.045720  2.088819e-01  0.0   0.00   \n",
       "ecr_i                        19882.0      0.030832  1.728664e-01  0.0   0.00   \n",
       "ftp_data                     19882.0      0.070214  2.555142e-01  0.0   0.00   \n",
       "http                         19882.0      0.402525  4.904189e-01  0.0   0.00   \n",
       "other                        19882.0      0.043155  2.032102e-01  0.0   0.00   \n",
       "private                      19882.0      0.218841  4.134710e-01  0.0   0.00   \n",
       "smtp                         19882.0      0.072880  2.599460e-01  0.0   0.00   \n",
       "telnet                       19882.0      0.024293  1.539622e-01  0.0   0.00   \n",
       "is_normal                    19882.0      0.645307  4.784321e-01  0.0   0.00   \n",
       "\n",
       "                                50%      75%          max  \n",
       "duration                       0.00     0.00      42862.0  \n",
       "src_bytes                    187.00   305.00  381709090.0  \n",
       "dst_bytes                    105.00  1010.00    5151385.0  \n",
       "logged_in                      0.00     1.00          1.0  \n",
       "count                          8.00    88.00        511.0  \n",
       "srv_count                      7.00    18.00        511.0  \n",
       "same_srv_rate                  1.00     1.00          1.0  \n",
       "diff_srv_rate                  0.00     0.03          1.0  \n",
       "dst_host_count               255.00   255.00        255.0  \n",
       "dst_host_srv_count           161.00   255.00        255.0  \n",
       "dst_host_same_srv_rate         0.98     1.00          1.0  \n",
       "dst_host_diff_srv_rate         0.01     0.06          1.0  \n",
       "dst_host_same_src_port_rate    0.01     0.14          1.0  \n",
       "dst_host_srv_diff_host_rate    0.00     0.02          1.0  \n",
       "dst_host_rerror_rate           0.00     0.00          1.0  \n",
       "tcp                            1.00     1.00          1.0  \n",
       "udp                            0.00     0.00          1.0  \n",
       "REJ                            0.00     0.00          1.0  \n",
       "RSTO                           0.00     0.00          1.0  \n",
       "RSTOS0                         0.00     0.00          1.0  \n",
       "RSTR                           0.00     0.00          1.0  \n",
       "S0                             0.00     0.00          1.0  \n",
       "S1                             0.00     0.00          1.0  \n",
       "S2                             0.00     0.00          1.0  \n",
       "S3                             0.00     0.00          1.0  \n",
       "SF                             1.00     1.00          1.0  \n",
       "SH                             0.00     0.00          1.0  \n",
       "eco_i                          0.00     0.00          1.0  \n",
       "ecr_i                          0.00     0.00          1.0  \n",
       "ftp_data                       0.00     0.00          1.0  \n",
       "http                           0.00     1.00          1.0  \n",
       "other                          0.00     0.00          1.0  \n",
       "private                        0.00     0.00          1.0  \n",
       "smtp                           0.00     0.00          1.0  \n",
       "telnet                         0.00     0.00          1.0  \n",
       "is_normal                      1.00     1.00          1.0  "
      ]
     },
     "execution_count": 21,
     "metadata": {},
     "output_type": "execute_result"
    }
   ],
   "source": [
    "# Check my data now that I have new columns\n",
    "\n",
    "df.describe().T"
   ]
  },
  {
   "cell_type": "markdown",
   "metadata": {},
   "source": [
    "## Data Exploration"
   ]
  },
  {
   "cell_type": "code",
   "execution_count": 22,
   "metadata": {},
   "outputs": [],
   "source": [
    "# Identifying my quantitative columns, my categorical columns, and my target variable\n",
    "\n",
    "quant_vars = ['dst_bytes', 'dst_host_srv_count', 'dst_host_same_srv_rate', 'src_bytes']\n",
    "quant_cols = ['dst_bytes', 'dst_host_srv_count', 'dst_host_same_srv_rate', 'src_bytes']\n",
    "cat_cols = ['tcp', 'other', 'logged_in']\n",
    "cat_vars = ['tcp', 'other', 'logged_in']\n",
    "target = 'is_normal'"
   ]
  },
  {
   "cell_type": "code",
   "execution_count": 23,
   "metadata": {},
   "outputs": [],
   "source": [
    "train, validate, test = wrangle.split(df, target, 123)"
   ]
  },
  {
   "cell_type": "code",
   "execution_count": 24,
   "metadata": {},
   "outputs": [
    {
     "data": {
      "image/png": "[encoded data removed]",
      "text/plain": [
       "<Figure size 144x144 with 1 Axes>"
      ]
     },
     "metadata": {
      "needs_background": "light"
     },
     "output_type": "display_data"
    },
    {
     "name": "stdout",
     "output_type": "stream",
     "text": [
      "   tcp  Count  Percent\n",
      "1    0   8619    77.42\n",
      "0    1   2514    22.58\n",
      "_________________________________________________________________\n"
     ]
    },
    {
     "data": {
      "image/png": "[encoded data removed]",
      "text/plain": [
       "<Figure size 144x144 with 1 Axes>"
      ]
     },
     "metadata": {
      "needs_background": "light"
     },
     "output_type": "display_data"
    },
    {
     "name": "stdout",
     "output_type": "stream",
     "text": [
      "   other  Count  Percent\n",
      "0      0  10660    95.75\n",
      "1      1    473     4.25\n",
      "_________________________________________________________________\n"
     ]
    },
    {
     "data": {
      "image/png": "[encoded data removed]",
      "text/plain": [
       "<Figure size 144x144 with 1 Axes>"
      ]
     },
     "metadata": {
      "needs_background": "light"
     },
     "output_type": "display_data"
    },
    {
     "name": "stdout",
     "output_type": "stream",
     "text": [
      "   logged_in  Count  Percent\n",
      "0          0   5752    51.67\n",
      "1          1   5381    48.33\n",
      "_________________________________________________________________\n"
     ]
    },
    {
     "data": {
      "image/png": "[encoded data removed]",
      "text/plain": [
       "<Figure size 576x144 with 2 Axes>"
      ]
     },
     "metadata": {
      "needs_background": "light"
     },
     "output_type": "display_data"
    },
    {
     "name": "stdout",
     "output_type": "stream",
     "text": [
      "count    1.113300e+04\n",
      "mean     3.831606e+03\n",
      "std      8.705259e+04\n",
      "min      0.000000e+00\n",
      "25%      0.000000e+00\n",
      "50%      1.020000e+02\n",
      "75%      1.035000e+03\n",
      "max      5.151385e+06\n",
      "Name: dst_bytes, dtype: float64\n"
     ]
    },
    {
     "data": {
      "image/png": "[encoded data removed]",
      "text/plain": [
       "<Figure size 576x144 with 2 Axes>"
      ]
     },
     "metadata": {
      "needs_background": "light"
     },
     "output_type": "display_data"
    },
    {
     "name": "stdout",
     "output_type": "stream",
     "text": [
      "count    11133.000000\n",
      "mean       142.584389\n",
      "std        109.445291\n",
      "min          1.000000\n",
      "25%         17.000000\n",
      "50%        163.000000\n",
      "75%        255.000000\n",
      "max        255.000000\n",
      "Name: dst_host_srv_count, dtype: float64\n"
     ]
    },
    {
     "data": {
      "image/png": "[encoded data removed]",
      "text/plain": [
       "<Figure size 576x144 with 2 Axes>"
      ]
     },
     "metadata": {
      "needs_background": "light"
     },
     "output_type": "display_data"
    },
    {
     "name": "stdout",
     "output_type": "stream",
     "text": [
      "count    11133.000000\n",
      "mean         0.641847\n",
      "std          0.427666\n",
      "min          0.000000\n",
      "25%          0.080000\n",
      "50%          0.980000\n",
      "75%          1.000000\n",
      "max          1.000000\n",
      "Name: dst_host_same_srv_rate, dtype: float64\n"
     ]
    },
    {
     "data": {
      "image/png": "[encoded data removed]",
      "text/plain": [
       "<Figure size 576x144 with 2 Axes>"
      ]
     },
     "metadata": {
      "needs_background": "light"
     },
     "output_type": "display_data"
    },
    {
     "name": "stdout",
     "output_type": "stream",
     "text": [
      "count    1.113300e+04\n",
      "mean     8.665717e+03\n",
      "std      1.629364e+05\n",
      "min      0.000000e+00\n",
      "25%      0.000000e+00\n",
      "50%      1.860000e+02\n",
      "75%      3.050000e+02\n",
      "max      5.135678e+06\n",
      "Name: src_bytes, dtype: float64\n"
     ]
    }
   ],
   "source": [
    "# Using Maggie's explore function for univariate exploration\n",
    "\n",
    "explore.explore_univariate(train, cat_cols, quant_cols)"
   ]
  },
  {
   "cell_type": "markdown",
   "metadata": {},
   "source": [
    "## Univariate takeaways\n",
    "- The most frequent protocol_type is 'tcp'\n",
    "- The two leading services are 'ftp_data' and 'other'\n",
    "- Some extreme outliers in 'dst_bytes' and 'src_bytes'\n",
    "- 'logged_in' doesn't seem to make much difference"
   ]
  },
  {
   "cell_type": "code",
   "execution_count": 25,
   "metadata": {},
   "outputs": [],
   "source": [
    "# Seperate my target from the rest of the data\n",
    "\n",
    "X_train = train.drop(columns=['is_normal'])\n",
    "y_train = train['is_normal']\n",
    "\n",
    "X_validate = validate.drop(columns=['is_normal'])\n",
    "y_validate = validate['is_normal']\n",
    "\n",
    "X_test = test.drop(columns=['is_normal'])\n",
    "y_test = test['is_normal']"
   ]
  },
  {
   "cell_type": "code",
   "execution_count": 26,
   "metadata": {},
   "outputs": [
    {
     "data": {
      "image/png": "[encoded data removed]",
      "text/plain": [
       "<Figure size 1080x504 with 1 Axes>"
      ]
     },
     "metadata": {
      "needs_background": "light"
     },
     "output_type": "display_data"
    }
   ],
   "source": [
    "# Identify important features with Random Forest Classifier\n",
    "\n",
    "rfc = RandomForestClassifier();\n",
    "\n",
    "# Fit random forest classifier on the training set\n",
    "rfc.fit(X_train, y_train);\n",
    "\n",
    "# Isolate important features\n",
    "score = np.round(rfc.feature_importances_,3)\n",
    "importances = pd.DataFrame({'feature':X_train.columns,'importance':score})\n",
    "importances = importances.sort_values('importance',ascending=False).set_index('feature')\n",
    "\n",
    "# Plot importances\n",
    "plt.rcParams['figure.figsize'] = (15, 7)\n",
    "importances.plot.bar();"
   ]
  },
  {
   "cell_type": "markdown",
   "metadata": {},
   "source": [
    "# Modeling"
   ]
  },
  {
   "cell_type": "code",
   "execution_count": 27,
   "metadata": {},
   "outputs": [
    {
     "data": {
      "text/plain": [
       "1    0.645289\n",
       "0    0.354711\n",
       "Name: is_normal, dtype: float64"
      ]
     },
     "execution_count": 27,
     "metadata": {},
     "output_type": "execute_result"
    }
   ],
   "source": [
    "# Set my baseline accuracy\n",
    "\n",
    "train.is_normal.value_counts(normalize=True)"
   ]
  },
  {
   "cell_type": "code",
   "execution_count": 28,
   "metadata": {},
   "outputs": [
    {
     "name": "stdout",
     "output_type": "stream",
     "text": [
      "My baseline prediction is_normal = 1\n",
      "My baseline accuracy is: 64.529%\n"
     ]
    }
   ],
   "source": [
    "# Establish new column that contains the mode\n",
    "\n",
    "train[\"most_frequent\"] = 1\n",
    "\n",
    "# Calcuate the baseline accuracy\n",
    "baseline_accuracy = (train.is_normal == train.most_frequent).mean()\n",
    "print(f'My baseline prediction is_normal = 1')\n",
    "print(f'My baseline accuracy is: {baseline_accuracy:.3%}')"
   ]
  },
  {
   "cell_type": "markdown",
   "metadata": {},
   "source": [
    "### Model 1: Logistic Regression"
   ]
  },
  {
   "cell_type": "code",
   "execution_count": 29,
   "metadata": {},
   "outputs": [],
   "source": [
    "# Create a Logistic Regression model.\n",
    "\n",
    "logit1 = LogisticRegression(random_state=123)"
   ]
  },
  {
   "cell_type": "code",
   "execution_count": 30,
   "metadata": {},
   "outputs": [
    {
     "data": {
      "text/plain": [
       "LogisticRegression(C=1.0, class_weight=None, dual=False, fit_intercept=True,\n",
       "                   intercept_scaling=1, l1_ratio=None, max_iter=100,\n",
       "                   multi_class='warn', n_jobs=None, penalty='l2',\n",
       "                   random_state=123, solver='warn', tol=0.0001, verbose=0,\n",
       "                   warm_start=False)"
      ]
     },
     "execution_count": 30,
     "metadata": {},
     "output_type": "execute_result"
    }
   ],
   "source": [
    "# Fit the model\n",
    "\n",
    "logit1.fit(X_train, y_train)"
   ]
  },
  {
   "cell_type": "code",
   "execution_count": 31,
   "metadata": {},
   "outputs": [
    {
     "name": "stdout",
     "output_type": "stream",
     "text": [
      "              precision    recall  f1-score   support\n",
      "\n",
      "           0       0.97      0.95      0.96      3949\n",
      "           1       0.97      0.98      0.98      7184\n",
      "\n",
      "    accuracy                           0.97     11133\n",
      "   macro avg       0.97      0.96      0.97     11133\n",
      "weighted avg       0.97      0.97      0.97     11133\n",
      "\n"
     ]
    }
   ],
   "source": [
    "# Print classification report for Logit1 train.\n",
    "\n",
    "print(classification_report(y_true=train.is_normal, y_pred=logit1.predict(X_train)))"
   ]
  },
  {
   "cell_type": "code",
   "execution_count": 32,
   "metadata": {},
   "outputs": [
    {
     "name": "stdout",
     "output_type": "stream",
     "text": [
      "              precision    recall  f1-score   support\n",
      "\n",
      "           0       0.96      0.94      0.95      1692\n",
      "           1       0.97      0.98      0.97      3080\n",
      "\n",
      "    accuracy                           0.97      4772\n",
      "   macro avg       0.97      0.96      0.96      4772\n",
      "weighted avg       0.97      0.97      0.97      4772\n",
      "\n"
     ]
    }
   ],
   "source": [
    "# Print classification report for Logit1 validate.\n",
    "\n",
    "print(classification_report(y_true=validate.is_normal, y_pred=logit1.predict(X_validate)))"
   ]
  },
  {
   "cell_type": "markdown",
   "metadata": {},
   "source": [
    "#### Model 1 Takeaway\n",
    "- Using all of the features, my model performed with 97% accuracy and 98% recall on both train and validate\n",
    "- Beat my baseline"
   ]
  },
  {
   "cell_type": "markdown",
   "metadata": {},
   "source": [
    "### Model 2: Logistic Regression "
   ]
  },
  {
   "cell_type": "code",
   "execution_count": 33,
   "metadata": {},
   "outputs": [],
   "source": [
    "# Tweaking my features\n",
    "\n",
    "features2 = ['dst_bytes', 'dst_host_srv_count', 'dst_host_same_srv_rate', 'src_bytes', 'tcp', 'other', 'logged_in']"
   ]
  },
  {
   "cell_type": "code",
   "execution_count": 34,
   "metadata": {},
   "outputs": [],
   "source": [
    "X_train = train[features2]\n",
    "y_train = train[['is_normal']]\n",
    "\n",
    "X_validate = validate[features2]\n",
    "y_validate = validate[['is_normal']]\n",
    "\n",
    "X_test = test[features2]\n",
    "y_test = test[['is_normal']]"
   ]
  },
  {
   "cell_type": "code",
   "execution_count": 35,
   "metadata": {},
   "outputs": [
    {
     "data": {
      "text/plain": [
       "LogisticRegression(C=1.0, class_weight=None, dual=False, fit_intercept=True,\n",
       "                   intercept_scaling=1, l1_ratio=None, max_iter=100,\n",
       "                   multi_class='warn', n_jobs=None, penalty='l2',\n",
       "                   random_state=123, solver='warn', tol=0.0001, verbose=0,\n",
       "                   warm_start=False)"
      ]
     },
     "execution_count": 35,
     "metadata": {},
     "output_type": "execute_result"
    }
   ],
   "source": [
    "logit2 = LogisticRegression(random_state=123)\n",
    "logit2.fit(X_train, y_train)"
   ]
  },
  {
   "cell_type": "code",
   "execution_count": 36,
   "metadata": {},
   "outputs": [
    {
     "name": "stdout",
     "output_type": "stream",
     "text": [
      "              precision    recall  f1-score   support\n",
      "\n",
      "           0       0.82      0.86      0.84      3949\n",
      "           1       0.92      0.90      0.91      7184\n",
      "\n",
      "    accuracy                           0.88     11133\n",
      "   macro avg       0.87      0.88      0.87     11133\n",
      "weighted avg       0.89      0.88      0.88     11133\n",
      "\n"
     ]
    }
   ],
   "source": [
    "# Print classification report for Logit2 train.\n",
    "\n",
    "print(classification_report(y_true=train.is_normal, y_pred=logit2.predict(X_train)))"
   ]
  },
  {
   "cell_type": "code",
   "execution_count": 37,
   "metadata": {},
   "outputs": [
    {
     "name": "stdout",
     "output_type": "stream",
     "text": [
      "              precision    recall  f1-score   support\n",
      "\n",
      "           0       0.83      0.86      0.84      1692\n",
      "           1       0.92      0.90      0.91      3080\n",
      "\n",
      "    accuracy                           0.89      4772\n",
      "   macro avg       0.87      0.88      0.88      4772\n",
      "weighted avg       0.89      0.89      0.89      4772\n",
      "\n"
     ]
    }
   ],
   "source": [
    "# Print classification report for Logit2 validate.\n",
    "\n",
    "print(classification_report(y_true=validate.is_normal, y_pred=logit2.predict(X_validate)))"
   ]
  },
  {
   "cell_type": "markdown",
   "metadata": {},
   "source": [
    "#### Model 2 Takeaway\n",
    "- Limiting the features, my model performed with 88% accuracy and 90% recall on both train and validate\n",
    "- Beat my baseline"
   ]
  },
  {
   "cell_type": "markdown",
   "metadata": {},
   "source": [
    "#### Model 3 Random Forest"
   ]
  },
  {
   "cell_type": "code",
   "execution_count": 38,
   "metadata": {},
   "outputs": [],
   "source": [
    "# Tweaking my features again, included some of the flags\n",
    "\n",
    "features3 = ['dst_bytes', 'dst_host_srv_count', 'dst_host_same_srv_rate', 'src_bytes', 'tcp', 'other', 'logged_in', 'SF', 'S0']"
   ]
  },
  {
   "cell_type": "code",
   "execution_count": 39,
   "metadata": {},
   "outputs": [],
   "source": [
    "# Adjusted the train, validate, and test to the tweaked features\n",
    "\n",
    "X_train = train[features3]\n",
    "y_train = train[['is_normal']]\n",
    "\n",
    "X_validate = validate[features3]\n",
    "y_validate = validate[['is_normal']]\n",
    "\n",
    "X_test = test[features3]\n",
    "y_test = test[['is_normal']]"
   ]
  },
  {
   "cell_type": "code",
   "execution_count": 40,
   "metadata": {},
   "outputs": [],
   "source": [
    "# Generate a Random Forest model with the max_depth argument is set to 4\n",
    "\n",
    "rf = RandomForestClassifier(bootstrap=True, \n",
    "                            class_weight=None, \n",
    "                            criterion='gini',\n",
    "                            min_samples_leaf=4,\n",
    "                            n_estimators=100,\n",
    "                            max_depth=4, \n",
    "                            random_state=123)"
   ]
  },
  {
   "cell_type": "code",
   "execution_count": 41,
   "metadata": {},
   "outputs": [
    {
     "data": {
      "text/plain": [
       "RandomForestClassifier(bootstrap=True, class_weight=None, criterion='gini',\n",
       "                       max_depth=4, max_features='auto', max_leaf_nodes=None,\n",
       "                       min_impurity_decrease=0.0, min_impurity_split=None,\n",
       "                       min_samples_leaf=4, min_samples_split=2,\n",
       "                       min_weight_fraction_leaf=0.0, n_estimators=100,\n",
       "                       n_jobs=None, oob_score=False, random_state=123,\n",
       "                       verbose=0, warm_start=False)"
      ]
     },
     "execution_count": 41,
     "metadata": {},
     "output_type": "execute_result"
    }
   ],
   "source": [
    "# Fit the model on the training data \n",
    "\n",
    "rf.fit(X_train, y_train)"
   ]
  },
  {
   "cell_type": "code",
   "execution_count": 42,
   "metadata": {},
   "outputs": [
    {
     "name": "stdout",
     "output_type": "stream",
     "text": [
      "[0.24073326 0.11465955 0.05430301 0.34349631 0.03534509 0.00113698\n",
      " 0.05802513 0.1418934  0.01040726]\n"
     ]
    }
   ],
   "source": [
    "# Evaluate the weight of each feature.\n",
    "\n",
    "print(rf.feature_importances_)"
   ]
  },
  {
   "cell_type": "code",
   "execution_count": 43,
   "metadata": {},
   "outputs": [],
   "source": [
    "# Make my prediction and estimate probability for Random Forest Train\n",
    "\n",
    "y_pred_rf = rf.predict(X_train)\n",
    "y_pred_proba_rf = rf.predict_proba(X_train)"
   ]
  },
  {
   "cell_type": "code",
   "execution_count": 44,
   "metadata": {},
   "outputs": [
    {
     "name": "stdout",
     "output_type": "stream",
     "text": [
      "              precision    recall  f1-score   support\n",
      "\n",
      "           0       0.98      0.97      0.98      3949\n",
      "           1       0.99      0.99      0.99      7184\n",
      "\n",
      "    accuracy                           0.98     11133\n",
      "   macro avg       0.98      0.98      0.98     11133\n",
      "weighted avg       0.98      0.98      0.98     11133\n",
      "\n"
     ]
    }
   ],
   "source": [
    "# Print classification report\n",
    "\n",
    "print(classification_report(y_train, y_pred_rf))"
   ]
  },
  {
   "cell_type": "code",
   "execution_count": 45,
   "metadata": {},
   "outputs": [],
   "source": [
    "# Make my prediction and estimate probability for Random Forest Validate\n",
    "\n",
    "y_pred_rf_val = rf.predict(X_validate)\n",
    "y_pred_proba_rf_val = rf.predict_proba(X_validate)"
   ]
  },
  {
   "cell_type": "code",
   "execution_count": 46,
   "metadata": {},
   "outputs": [
    {
     "name": "stdout",
     "output_type": "stream",
     "text": [
      "              precision    recall  f1-score   support\n",
      "\n",
      "           0       0.98      0.97      0.97      1692\n",
      "           1       0.98      0.99      0.99      3080\n",
      "\n",
      "    accuracy                           0.98      4772\n",
      "   macro avg       0.98      0.98      0.98      4772\n",
      "weighted avg       0.98      0.98      0.98      4772\n",
      "\n"
     ]
    }
   ],
   "source": [
    "# Print my validation classification report\n",
    "\n",
    "print(classification_report(y_validate, y_pred_rf_val))"
   ]
  },
  {
   "cell_type": "markdown",
   "metadata": {},
   "source": [
    "#### Model 3 Takeaways\n",
    "- 97% accuracy and 99% recall \n",
    "- Beat my baseline"
   ]
  },
  {
   "cell_type": "markdown",
   "metadata": {},
   "source": [
    "### Model 4 Decision Tree"
   ]
  },
  {
   "cell_type": "code",
   "execution_count": 47,
   "metadata": {},
   "outputs": [],
   "source": [
    "# Generate a Decision Tree model with the max_depth argument is set to 5\n",
    "\n",
    "clf = DecisionTreeClassifier(max_depth=5, random_state=123)"
   ]
  },
  {
   "cell_type": "code",
   "execution_count": 48,
   "metadata": {},
   "outputs": [],
   "source": [
    "# Slightly tweaked my features, removing 'logged_in' 'SO' and 'src_bytes'\n",
    "\n",
    "features4 = ['dst_bytes', 'dst_host_srv_count', 'dst_host_same_srv_rate', 'tcp', 'other', 'SF', 'S0']"
   ]
  },
  {
   "cell_type": "code",
   "execution_count": 49,
   "metadata": {},
   "outputs": [],
   "source": [
    "# Adjusted the train, validate, and test to the tweaked features\n",
    "\n",
    "X_train = train[features4]\n",
    "y_train = train[['is_normal']]\n",
    "\n",
    "X_validate = validate[features4]\n",
    "y_validate = validate[['is_normal']]\n",
    "\n",
    "X_test = test[features4]\n",
    "y_test = test[['is_normal']]"
   ]
  },
  {
   "cell_type": "code",
   "execution_count": 50,
   "metadata": {},
   "outputs": [],
   "source": [
    "# Fit the model on the training data\n",
    "\n",
    "clf = clf.fit(X_train, y_train)"
   ]
  },
  {
   "cell_type": "code",
   "execution_count": 51,
   "metadata": {},
   "outputs": [
    {
     "data": {
      "text/plain": [
       "array([0, 0, 1, 1, 0], dtype=uint8)"
      ]
     },
     "execution_count": 51,
     "metadata": {},
     "output_type": "execute_result"
    }
   ],
   "source": [
    "# Generate a set of predictions using this trained model\n",
    "\n",
    "y_pred = clf.predict(X_train)\n",
    "y_pred[0:5]"
   ]
  },
  {
   "cell_type": "code",
   "execution_count": 52,
   "metadata": {},
   "outputs": [
    {
     "data": {
      "text/plain": [
       "array([[0.90938865, 0.09061135],\n",
       "       [0.90938865, 0.09061135],\n",
       "       [0.        , 1.        ],\n",
       "       [0.        , 1.        ],\n",
       "       [0.99036145, 0.00963855]])"
      ]
     },
     "execution_count": 52,
     "metadata": {},
     "output_type": "execute_result"
    }
   ],
   "source": [
    "# Estimate the probabilities for each class\n",
    "\n",
    "y_pred_proba = clf.predict_proba(X_train)\n",
    "y_pred_proba[0:5]"
   ]
  },
  {
   "cell_type": "code",
   "execution_count": 53,
   "metadata": {},
   "outputs": [
    {
     "name": "stdout",
     "output_type": "stream",
     "text": [
      "Accuracy of Decision Tree classifier on training set: 0.9718\n"
     ]
    }
   ],
   "source": [
    "# Evaluate the model \n",
    "\n",
    "print('Accuracy of Decision Tree classifier on training set: {:.4f}'\n",
    "      .format(clf.score(X_train, y_train)))"
   ]
  },
  {
   "cell_type": "code",
   "execution_count": 54,
   "metadata": {},
   "outputs": [
    {
     "name": "stdout",
     "output_type": "stream",
     "text": [
      "              precision    recall  f1-score   support\n",
      "\n",
      "           0       0.96      0.96      0.96      3949\n",
      "           1       0.98      0.98      0.98      7184\n",
      "\n",
      "    accuracy                           0.97     11133\n",
      "   macro avg       0.97      0.97      0.97     11133\n",
      "weighted avg       0.97      0.97      0.97     11133\n",
      "\n"
     ]
    }
   ],
   "source": [
    "# Print a classification report\n",
    "\n",
    "print(classification_report(y_train, y_pred))"
   ]
  },
  {
   "cell_type": "code",
   "execution_count": 55,
   "metadata": {},
   "outputs": [
    {
     "name": "stdout",
     "output_type": "stream",
     "text": [
      "Accuracy of Decision Tree classifier on validate set: 0.9709\n"
     ]
    }
   ],
   "source": [
    "# Evaluate this model on out-of-sample data\n",
    "\n",
    "print('Accuracy of Decision Tree classifier on validate set: {:.4f}'\n",
    "     .format(clf.score(X_validate, y_validate)))"
   ]
  },
  {
   "cell_type": "code",
   "execution_count": 56,
   "metadata": {},
   "outputs": [],
   "source": [
    "# Use the classification model trained on train data to make predictions on validate data\n",
    "\n",
    "y_pred_val = clf.predict(X_validate)"
   ]
  },
  {
   "cell_type": "code",
   "execution_count": 57,
   "metadata": {},
   "outputs": [
    {
     "name": "stdout",
     "output_type": "stream",
     "text": [
      "              precision    recall  f1-score   support\n",
      "\n",
      "           0       0.96      0.96      0.96      1692\n",
      "           1       0.98      0.98      0.98      3080\n",
      "\n",
      "    accuracy                           0.97      4772\n",
      "   macro avg       0.97      0.97      0.97      4772\n",
      "weighted avg       0.97      0.97      0.97      4772\n",
      "\n"
     ]
    }
   ],
   "source": [
    "# Compare actual y values from validate to predictions based on X_validate\n",
    "\n",
    "print(classification_report(y_validate, y_pred_val))"
   ]
  },
  {
   "cell_type": "markdown",
   "metadata": {},
   "source": [
    "#### Model 4 Takeaways\n",
    "- 97% accuracy and 98% recall on both train and validate\n",
    "- Beat my baseline"
   ]
  },
  {
   "cell_type": "markdown",
   "metadata": {},
   "source": [
    "### Choose a model to test"
   ]
  },
  {
   "cell_type": "markdown",
   "metadata": {},
   "source": [
    "- All of my models beat my baseline handily\n",
    "- All of my models hovered between the high 80s and the 90s for both accuracy and recall\n",
    "- LR Model 1 seemed to be the best predictor, so we'll go with that one for the test"
   ]
  },
  {
   "cell_type": "code",
   "execution_count": 58,
   "metadata": {},
   "outputs": [
    {
     "data": {
      "text/plain": [
       "LogisticRegression(C=1.0, class_weight=None, dual=False, fit_intercept=True,\n",
       "                   intercept_scaling=1, l1_ratio=None, max_iter=100,\n",
       "                   multi_class='warn', n_jobs=None, penalty='l2',\n",
       "                   random_state=123, solver='warn', tol=0.0001, verbose=0,\n",
       "                   warm_start=False)"
      ]
     },
     "execution_count": 58,
     "metadata": {},
     "output_type": "execute_result"
    }
   ],
   "source": [
    "# Fit the model\n",
    "\n",
    "logit1.fit(X_test, y_test)"
   ]
  },
  {
   "cell_type": "code",
   "execution_count": 59,
   "metadata": {},
   "outputs": [
    {
     "name": "stdout",
     "output_type": "stream",
     "text": [
      "(3977, 7) (3977, 1)\n"
     ]
    }
   ],
   "source": [
    "# Make sure the test data proportions look correct\n",
    "\n",
    "print(X_test.shape, y_test.shape)"
   ]
  },
  {
   "cell_type": "code",
   "execution_count": 60,
   "metadata": {},
   "outputs": [
    {
     "name": "stdout",
     "output_type": "stream",
     "text": [
      "              precision    recall  f1-score   support\n",
      "\n",
      "           0       0.90      0.86      0.88      1411\n",
      "           1       0.92      0.95      0.94      2566\n",
      "\n",
      "    accuracy                           0.92      3977\n",
      "   macro avg       0.91      0.90      0.91      3977\n",
      "weighted avg       0.92      0.92      0.92      3977\n",
      "\n"
     ]
    }
   ],
   "source": [
    "# Classification report  \n",
    "\n",
    "print(classification_report(y_true=y_test, y_pred=logit1.predict(X_test)))"
   ]
  },
  {
   "cell_type": "markdown",
   "metadata": {},
   "source": [
    "### Testing Takeaways\n",
    "- The test LR model was a little over-fit: test data dropped off by 3% on recall and dropped by 5% on accuracy\n",
    "- 95% recall and 92% accuracy are respectable numbers, so not terrible overall "
   ]
  },
  {
   "cell_type": "code",
   "execution_count": null,
   "metadata": {},
   "outputs": [],
   "source": []
  }
 ],
 "metadata": {
  "kernelspec": {
   "display_name": "Python 3",
   "language": "python",
   "name": "python3"
  },
  "language_info": {
   "codemirror_mode": {
    "name": "ipython",
    "version": 3
   },
   "file_extension": ".py",
   "mimetype": "text/x-python",
   "name": "python",
   "nbconvert_exporter": "python",
   "pygments_lexer": "ipython3",
   "version": "3.7.4"
  }
 },
 "nbformat": 4,
 "nbformat_minor": 4
}
